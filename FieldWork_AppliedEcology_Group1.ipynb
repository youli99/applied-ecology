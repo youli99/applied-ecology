{
 "cells": [
  {
   "cell_type": "code",
   "execution_count": 34,
   "id": "8ab62716",
   "metadata": {},
   "outputs": [],
   "source": [
    "import pandas as pd\n",
    "import numpy as np\n",
    "import matplotlib.pyplot as plt\n",
    "import statsmodels.api as sm\n",
    "from statsmodels.formula.api import ols\n",
    "import seaborn as sns\n",
    "from scipy.stats import shapiro, levene, mannwhitneyu, norm"
   ]
  },
  {
   "cell_type": "code",
   "execution_count": 2,
   "id": "f520acb0",
   "metadata": {},
   "outputs": [],
   "source": [
    "df = pd.read_excel(\"Datasheet for fieldwork_Combined_Group 1.xlsx\", header=1)\n",
    "\n",
    "df = df.rename(\n",
    "    columns={\n",
    "        \"Tree #\": \"tree_id\",\n",
    "        \"Species (latin name)\": \"species\",\n",
    "        \"Plot (mixed vs. mono)\": \"plot_type\",\n",
    "        \"DBH (in cm)\": \"dbh\",\n",
    "        \"Height (in m)\": \"height\",\n",
    "        \"Aboveground biomass (in kg)\": \"agb\",\n",
    "        \"LAI (m²/m²)\": \"lai\",\n",
    "        \"Shannon index\": \"shannon\",\n",
    "        \"Soil pH\": \"soil_pH\",\n",
    "        \"IBP\": \"ibp\",\n",
    "        \"Group\": \"group\",\n",
    "    }\n",
    ")\n",
    "\n",
    "df = df.loc[\n",
    "    (~df[\"species\"].str.contains(r\"\\(mort\\)\", case=False, na=False))\n",
    "    & (~df[\"species\"].str.contains(r\" mort\", case=False, na=False))\n",
    "].reset_index(drop=True)"
   ]
  },
  {
   "cell_type": "code",
   "execution_count": 3,
   "id": "4407959b",
   "metadata": {},
   "outputs": [],
   "source": [
    "# remove rows with NAN\n",
    "df = df.dropna().reset_index(drop=True)"
   ]
  },
  {
   "cell_type": "code",
   "execution_count": 4,
   "id": "95935fae",
   "metadata": {},
   "outputs": [
    {
     "data": {
      "text/plain": [
       "array(['Picea Abies', 'Fagus Sylvatica', 'Abies Alba', 'Quercus Robur',\n",
       "       'Castanea Sativa', 'Picea', 'Sambucus Racemosa',\n",
       "       'Corylus Avellana', 'Quercus Petraea', 'Castanea Dentata',\n",
       "       'Pinus Sylvestris', 'Castanea sativa'], dtype=object)"
      ]
     },
     "execution_count": 4,
     "metadata": {},
     "output_type": "execute_result"
    }
   ],
   "source": [
    "df[\"species\"].unique()"
   ]
  },
  {
   "cell_type": "code",
   "execution_count": 5,
   "id": "5fb7d4a5",
   "metadata": {},
   "outputs": [
    {
     "data": {
      "text/plain": [
       "array(['Picea Abies', 'Fagus Sylvatica', 'Abies Alba', 'Quercus Robur',\n",
       "       'Castanea Sativa', 'Sambucus Racemosa', 'Corylus Avellana',\n",
       "       'Quercus Petraea', 'Castanea Dentata', 'Pinus Sylvestris'],\n",
       "      dtype=object)"
      ]
     },
     "execution_count": 5,
     "metadata": {},
     "output_type": "execute_result"
    }
   ],
   "source": [
    "# Unify species name\n",
    "df.loc[df[\"species\"]==\"Picea\", \"species\"] = \"Picea Abies\"  \n",
    "df.loc[df[\"species\"]==\"Castanea sativa\", \"species\"] = \"Castanea Sativa\"\n",
    "df[\"species\"].unique()"
   ]
  },
  {
   "cell_type": "markdown",
   "id": "a0f6cb56",
   "metadata": {},
   "source": [
    "# Descriptive Statistics"
   ]
  },
  {
   "cell_type": "code",
   "execution_count": 6,
   "id": "ca390af6",
   "metadata": {},
   "outputs": [],
   "source": [
    "vars_list = [\"dbh\", \"height\", \"agb\", \"lai\", \"shannon\", \"soil_pH\", \"ibp\"]"
   ]
  },
  {
   "cell_type": "code",
   "execution_count": 7,
   "id": "b5966e09",
   "metadata": {},
   "outputs": [
    {
     "data": {
      "application/vnd.microsoft.datawrangler.viewer.v0+json": {
       "columns": [
        {
         "name": "index",
         "rawType": "object",
         "type": "string"
        },
        {
         "name": "dbh",
         "rawType": "float64",
         "type": "float"
        },
        {
         "name": "height",
         "rawType": "float64",
         "type": "float"
        },
        {
         "name": "agb",
         "rawType": "float64",
         "type": "float"
        },
        {
         "name": "lai",
         "rawType": "float64",
         "type": "float"
        },
        {
         "name": "shannon",
         "rawType": "float64",
         "type": "float"
        },
        {
         "name": "soil_pH",
         "rawType": "float64",
         "type": "float"
        },
        {
         "name": "ibp",
         "rawType": "float64",
         "type": "float"
        }
       ],
       "ref": "d8499795-a19f-437f-9b01-94c81b933f33",
       "rows": [
        [
         "count",
         "191.0",
         "191.0",
         "191.0",
         "191.0",
         "191.0",
         "191.0",
         "191.0"
        ],
        [
         "mean",
         "20.07820784534916",
         "14.457539267015706",
         "634.679855892069",
         "5.291465968586388",
         "0.7770268204854871",
         "4.9586910994764395",
         "22.329842931937172"
        ],
        [
         "std",
         "16.62401084062118",
         "10.602421308226443",
         "2635.663824739845",
         "1.360952432613192",
         "0.387937161716119",
         "0.29679314766232606",
         "11.37638826584254"
        ],
        [
         "min",
         "0.8085071109068284",
         "1.4",
         "0.03345921071340168",
         "1.42",
         "0.0",
         "4.12",
         "8.0"
        ],
        [
         "25%",
         "4.451563758280313",
         "3.55",
         "4.569562991961465",
         "4.18",
         "0.5623351446188083",
         "4.71",
         "12.0"
        ],
        [
         "50%",
         "16.233804195373324",
         "13.0",
         "61.29",
         "5.58",
         "0.7595473914748635",
         "5.04",
         "22.0"
        ],
        [
         "75%",
         "32.94507322002234",
         "22.95",
         "481.02987167863336",
         "6.53",
         "1.06",
         "5.14",
         "29.0"
        ],
        [
         "max",
         "66.8",
         "40.0",
         "28195.001960345762",
         "6.9",
         "1.52",
         "5.67",
         "42.0"
        ]
       ],
       "shape": {
        "columns": 7,
        "rows": 8
       }
      },
      "text/html": [
       "<div>\n",
       "<style scoped>\n",
       "    .dataframe tbody tr th:only-of-type {\n",
       "        vertical-align: middle;\n",
       "    }\n",
       "\n",
       "    .dataframe tbody tr th {\n",
       "        vertical-align: top;\n",
       "    }\n",
       "\n",
       "    .dataframe thead th {\n",
       "        text-align: right;\n",
       "    }\n",
       "</style>\n",
       "<table border=\"1\" class=\"dataframe\">\n",
       "  <thead>\n",
       "    <tr style=\"text-align: right;\">\n",
       "      <th></th>\n",
       "      <th>dbh</th>\n",
       "      <th>height</th>\n",
       "      <th>agb</th>\n",
       "      <th>lai</th>\n",
       "      <th>shannon</th>\n",
       "      <th>soil_pH</th>\n",
       "      <th>ibp</th>\n",
       "    </tr>\n",
       "  </thead>\n",
       "  <tbody>\n",
       "    <tr>\n",
       "      <th>count</th>\n",
       "      <td>191.000000</td>\n",
       "      <td>191.000000</td>\n",
       "      <td>191.000000</td>\n",
       "      <td>191.000000</td>\n",
       "      <td>191.000000</td>\n",
       "      <td>191.000000</td>\n",
       "      <td>191.000000</td>\n",
       "    </tr>\n",
       "    <tr>\n",
       "      <th>mean</th>\n",
       "      <td>20.078208</td>\n",
       "      <td>14.457539</td>\n",
       "      <td>634.679856</td>\n",
       "      <td>5.291466</td>\n",
       "      <td>0.777027</td>\n",
       "      <td>4.958691</td>\n",
       "      <td>22.329843</td>\n",
       "    </tr>\n",
       "    <tr>\n",
       "      <th>std</th>\n",
       "      <td>16.624011</td>\n",
       "      <td>10.602421</td>\n",
       "      <td>2635.663825</td>\n",
       "      <td>1.360952</td>\n",
       "      <td>0.387937</td>\n",
       "      <td>0.296793</td>\n",
       "      <td>11.376388</td>\n",
       "    </tr>\n",
       "    <tr>\n",
       "      <th>min</th>\n",
       "      <td>0.808507</td>\n",
       "      <td>1.400000</td>\n",
       "      <td>0.033459</td>\n",
       "      <td>1.420000</td>\n",
       "      <td>0.000000</td>\n",
       "      <td>4.120000</td>\n",
       "      <td>8.000000</td>\n",
       "    </tr>\n",
       "    <tr>\n",
       "      <th>25%</th>\n",
       "      <td>4.451564</td>\n",
       "      <td>3.550000</td>\n",
       "      <td>4.569563</td>\n",
       "      <td>4.180000</td>\n",
       "      <td>0.562335</td>\n",
       "      <td>4.710000</td>\n",
       "      <td>12.000000</td>\n",
       "    </tr>\n",
       "    <tr>\n",
       "      <th>50%</th>\n",
       "      <td>16.233804</td>\n",
       "      <td>13.000000</td>\n",
       "      <td>61.290000</td>\n",
       "      <td>5.580000</td>\n",
       "      <td>0.759547</td>\n",
       "      <td>5.040000</td>\n",
       "      <td>22.000000</td>\n",
       "    </tr>\n",
       "    <tr>\n",
       "      <th>75%</th>\n",
       "      <td>32.945073</td>\n",
       "      <td>22.950000</td>\n",
       "      <td>481.029872</td>\n",
       "      <td>6.530000</td>\n",
       "      <td>1.060000</td>\n",
       "      <td>5.140000</td>\n",
       "      <td>29.000000</td>\n",
       "    </tr>\n",
       "    <tr>\n",
       "      <th>max</th>\n",
       "      <td>66.800000</td>\n",
       "      <td>40.000000</td>\n",
       "      <td>28195.001960</td>\n",
       "      <td>6.900000</td>\n",
       "      <td>1.520000</td>\n",
       "      <td>5.670000</td>\n",
       "      <td>42.000000</td>\n",
       "    </tr>\n",
       "  </tbody>\n",
       "</table>\n",
       "</div>"
      ],
      "text/plain": [
       "              dbh      height           agb         lai     shannon  \\\n",
       "count  191.000000  191.000000    191.000000  191.000000  191.000000   \n",
       "mean    20.078208   14.457539    634.679856    5.291466    0.777027   \n",
       "std     16.624011   10.602421   2635.663825    1.360952    0.387937   \n",
       "min      0.808507    1.400000      0.033459    1.420000    0.000000   \n",
       "25%      4.451564    3.550000      4.569563    4.180000    0.562335   \n",
       "50%     16.233804   13.000000     61.290000    5.580000    0.759547   \n",
       "75%     32.945073   22.950000    481.029872    6.530000    1.060000   \n",
       "max     66.800000   40.000000  28195.001960    6.900000    1.520000   \n",
       "\n",
       "          soil_pH         ibp  \n",
       "count  191.000000  191.000000  \n",
       "mean     4.958691   22.329843  \n",
       "std      0.296793   11.376388  \n",
       "min      4.120000    8.000000  \n",
       "25%      4.710000   12.000000  \n",
       "50%      5.040000   22.000000  \n",
       "75%      5.140000   29.000000  \n",
       "max      5.670000   42.000000  "
      ]
     },
     "execution_count": 7,
     "metadata": {},
     "output_type": "execute_result"
    }
   ],
   "source": [
    "df[vars_list].describe()"
   ]
  },
  {
   "cell_type": "code",
   "execution_count": 8,
   "id": "d1fb3121",
   "metadata": {},
   "outputs": [
    {
     "data": {
      "application/vnd.microsoft.datawrangler.viewer.v0+json": {
       "columns": [
        {
         "name": "species",
         "rawType": "object",
         "type": "string"
        },
        {
         "name": "count",
         "rawType": "int64",
         "type": "integer"
        }
       ],
       "ref": "b1b6a5be-0092-4223-a969-876d79be37e8",
       "rows": [
        [
         "Abies Alba",
         "47"
        ],
        [
         "Castanea Dentata",
         "2"
        ],
        [
         "Castanea Sativa",
         "5"
        ],
        [
         "Corylus Avellana",
         "4"
        ],
        [
         "Fagus Sylvatica",
         "52"
        ],
        [
         "Picea Abies",
         "68"
        ],
        [
         "Pinus Sylvestris",
         "8"
        ],
        [
         "Quercus Petraea",
         "1"
        ],
        [
         "Quercus Robur",
         "3"
        ],
        [
         "Sambucus Racemosa",
         "1"
        ]
       ],
       "shape": {
        "columns": 1,
        "rows": 10
       }
      },
      "text/html": [
       "<div>\n",
       "<style scoped>\n",
       "    .dataframe tbody tr th:only-of-type {\n",
       "        vertical-align: middle;\n",
       "    }\n",
       "\n",
       "    .dataframe tbody tr th {\n",
       "        vertical-align: top;\n",
       "    }\n",
       "\n",
       "    .dataframe thead th {\n",
       "        text-align: right;\n",
       "    }\n",
       "</style>\n",
       "<table border=\"1\" class=\"dataframe\">\n",
       "  <thead>\n",
       "    <tr style=\"text-align: right;\">\n",
       "      <th></th>\n",
       "      <th>count</th>\n",
       "    </tr>\n",
       "    <tr>\n",
       "      <th>species</th>\n",
       "      <th></th>\n",
       "    </tr>\n",
       "  </thead>\n",
       "  <tbody>\n",
       "    <tr>\n",
       "      <th>Abies Alba</th>\n",
       "      <td>47</td>\n",
       "    </tr>\n",
       "    <tr>\n",
       "      <th>Castanea Dentata</th>\n",
       "      <td>2</td>\n",
       "    </tr>\n",
       "    <tr>\n",
       "      <th>Castanea Sativa</th>\n",
       "      <td>5</td>\n",
       "    </tr>\n",
       "    <tr>\n",
       "      <th>Corylus Avellana</th>\n",
       "      <td>4</td>\n",
       "    </tr>\n",
       "    <tr>\n",
       "      <th>Fagus Sylvatica</th>\n",
       "      <td>52</td>\n",
       "    </tr>\n",
       "    <tr>\n",
       "      <th>Picea Abies</th>\n",
       "      <td>68</td>\n",
       "    </tr>\n",
       "    <tr>\n",
       "      <th>Pinus Sylvestris</th>\n",
       "      <td>8</td>\n",
       "    </tr>\n",
       "    <tr>\n",
       "      <th>Quercus Petraea</th>\n",
       "      <td>1</td>\n",
       "    </tr>\n",
       "    <tr>\n",
       "      <th>Quercus Robur</th>\n",
       "      <td>3</td>\n",
       "    </tr>\n",
       "    <tr>\n",
       "      <th>Sambucus Racemosa</th>\n",
       "      <td>1</td>\n",
       "    </tr>\n",
       "  </tbody>\n",
       "</table>\n",
       "</div>"
      ],
      "text/plain": [
       "                   count\n",
       "species                 \n",
       "Abies Alba            47\n",
       "Castanea Dentata       2\n",
       "Castanea Sativa        5\n",
       "Corylus Avellana       4\n",
       "Fagus Sylvatica       52\n",
       "Picea Abies           68\n",
       "Pinus Sylvestris       8\n",
       "Quercus Petraea        1\n",
       "Quercus Robur          3\n",
       "Sambucus Racemosa      1"
      ]
     },
     "execution_count": 8,
     "metadata": {},
     "output_type": "execute_result"
    }
   ],
   "source": [
    "df.groupby(\"species\").agg(count=(\"tree_id\", \"count\"))"
   ]
  },
  {
   "cell_type": "code",
   "execution_count": 9,
   "id": "73f24b7f",
   "metadata": {},
   "outputs": [
    {
     "data": {
      "application/vnd.microsoft.datawrangler.viewer.v0+json": {
       "columns": [
        {
         "name": "plot_type",
         "rawType": "object",
         "type": "string"
        },
        {
         "name": "species_count",
         "rawType": "int64",
         "type": "integer"
        }
       ],
       "ref": "6714bd09-3fbc-489e-941e-41127a6bce22",
       "rows": [
        [
         "Mixed",
         "6"
        ],
        [
         "Mono",
         "8"
        ]
       ],
       "shape": {
        "columns": 1,
        "rows": 2
       }
      },
      "text/html": [
       "<div>\n",
       "<style scoped>\n",
       "    .dataframe tbody tr th:only-of-type {\n",
       "        vertical-align: middle;\n",
       "    }\n",
       "\n",
       "    .dataframe tbody tr th {\n",
       "        vertical-align: top;\n",
       "    }\n",
       "\n",
       "    .dataframe thead th {\n",
       "        text-align: right;\n",
       "    }\n",
       "</style>\n",
       "<table border=\"1\" class=\"dataframe\">\n",
       "  <thead>\n",
       "    <tr style=\"text-align: right;\">\n",
       "      <th></th>\n",
       "      <th>species_count</th>\n",
       "    </tr>\n",
       "    <tr>\n",
       "      <th>plot_type</th>\n",
       "      <th></th>\n",
       "    </tr>\n",
       "  </thead>\n",
       "  <tbody>\n",
       "    <tr>\n",
       "      <th>Mixed</th>\n",
       "      <td>6</td>\n",
       "    </tr>\n",
       "    <tr>\n",
       "      <th>Mono</th>\n",
       "      <td>8</td>\n",
       "    </tr>\n",
       "  </tbody>\n",
       "</table>\n",
       "</div>"
      ],
      "text/plain": [
       "           species_count\n",
       "plot_type               \n",
       "Mixed                  6\n",
       "Mono                   8"
      ]
     },
     "execution_count": 9,
     "metadata": {},
     "output_type": "execute_result"
    }
   ],
   "source": [
    "df.groupby(\"plot_type\").agg(species_count=(\"species\", \"nunique\"))"
   ]
  },
  {
   "cell_type": "code",
   "execution_count": 10,
   "id": "99475b3d",
   "metadata": {},
   "outputs": [
    {
     "data": {
      "application/vnd.microsoft.datawrangler.viewer.v0+json": {
       "columns": [
        {
         "name": "('plot_type', 'group')",
         "rawType": "object",
         "type": "unknown"
        },
        {
         "name": "species_count",
         "rawType": "int64",
         "type": "integer"
        }
       ],
       "ref": "c96f7914-20ad-40f4-a6b9-b4bf0cef4455",
       "rows": [
        [
         "('Mixed', np.int64(1))",
         "4"
        ],
        [
         "('Mixed', np.int64(2))",
         "3"
        ],
        [
         "('Mixed', np.int64(3))",
         "4"
        ],
        [
         "('Mixed', np.int64(4))",
         "3"
        ],
        [
         "('Mixed', np.int64(5))",
         "2"
        ],
        [
         "('Mixed', np.int64(6))",
         "2"
        ],
        [
         "('Mixed', np.int64(7))",
         "4"
        ],
        [
         "('Mixed', np.int64(8))",
         "3"
        ],
        [
         "('Mixed', np.int64(10))",
         "3"
        ],
        [
         "('Mono', np.int64(1))",
         "1"
        ],
        [
         "('Mono', np.int64(2))",
         "1"
        ],
        [
         "('Mono', np.int64(3))",
         "3"
        ],
        [
         "('Mono', np.int64(4))",
         "2"
        ],
        [
         "('Mono', np.int64(5))",
         "1"
        ],
        [
         "('Mono', np.int64(6))",
         "3"
        ],
        [
         "('Mono', np.int64(7))",
         "3"
        ],
        [
         "('Mono', np.int64(8))",
         "2"
        ],
        [
         "('Mono', np.int64(10))",
         "4"
        ]
       ],
       "shape": {
        "columns": 1,
        "rows": 18
       }
      },
      "text/html": [
       "<div>\n",
       "<style scoped>\n",
       "    .dataframe tbody tr th:only-of-type {\n",
       "        vertical-align: middle;\n",
       "    }\n",
       "\n",
       "    .dataframe tbody tr th {\n",
       "        vertical-align: top;\n",
       "    }\n",
       "\n",
       "    .dataframe thead th {\n",
       "        text-align: right;\n",
       "    }\n",
       "</style>\n",
       "<table border=\"1\" class=\"dataframe\">\n",
       "  <thead>\n",
       "    <tr style=\"text-align: right;\">\n",
       "      <th></th>\n",
       "      <th></th>\n",
       "      <th>species_count</th>\n",
       "    </tr>\n",
       "    <tr>\n",
       "      <th>plot_type</th>\n",
       "      <th>group</th>\n",
       "      <th></th>\n",
       "    </tr>\n",
       "  </thead>\n",
       "  <tbody>\n",
       "    <tr>\n",
       "      <th rowspan=\"9\" valign=\"top\">Mixed</th>\n",
       "      <th>1</th>\n",
       "      <td>4</td>\n",
       "    </tr>\n",
       "    <tr>\n",
       "      <th>2</th>\n",
       "      <td>3</td>\n",
       "    </tr>\n",
       "    <tr>\n",
       "      <th>3</th>\n",
       "      <td>4</td>\n",
       "    </tr>\n",
       "    <tr>\n",
       "      <th>4</th>\n",
       "      <td>3</td>\n",
       "    </tr>\n",
       "    <tr>\n",
       "      <th>5</th>\n",
       "      <td>2</td>\n",
       "    </tr>\n",
       "    <tr>\n",
       "      <th>6</th>\n",
       "      <td>2</td>\n",
       "    </tr>\n",
       "    <tr>\n",
       "      <th>7</th>\n",
       "      <td>4</td>\n",
       "    </tr>\n",
       "    <tr>\n",
       "      <th>8</th>\n",
       "      <td>3</td>\n",
       "    </tr>\n",
       "    <tr>\n",
       "      <th>10</th>\n",
       "      <td>3</td>\n",
       "    </tr>\n",
       "    <tr>\n",
       "      <th rowspan=\"9\" valign=\"top\">Mono</th>\n",
       "      <th>1</th>\n",
       "      <td>1</td>\n",
       "    </tr>\n",
       "    <tr>\n",
       "      <th>2</th>\n",
       "      <td>1</td>\n",
       "    </tr>\n",
       "    <tr>\n",
       "      <th>3</th>\n",
       "      <td>3</td>\n",
       "    </tr>\n",
       "    <tr>\n",
       "      <th>4</th>\n",
       "      <td>2</td>\n",
       "    </tr>\n",
       "    <tr>\n",
       "      <th>5</th>\n",
       "      <td>1</td>\n",
       "    </tr>\n",
       "    <tr>\n",
       "      <th>6</th>\n",
       "      <td>3</td>\n",
       "    </tr>\n",
       "    <tr>\n",
       "      <th>7</th>\n",
       "      <td>3</td>\n",
       "    </tr>\n",
       "    <tr>\n",
       "      <th>8</th>\n",
       "      <td>2</td>\n",
       "    </tr>\n",
       "    <tr>\n",
       "      <th>10</th>\n",
       "      <td>4</td>\n",
       "    </tr>\n",
       "  </tbody>\n",
       "</table>\n",
       "</div>"
      ],
      "text/plain": [
       "                 species_count\n",
       "plot_type group               \n",
       "Mixed     1                  4\n",
       "          2                  3\n",
       "          3                  4\n",
       "          4                  3\n",
       "          5                  2\n",
       "          6                  2\n",
       "          7                  4\n",
       "          8                  3\n",
       "          10                 3\n",
       "Mono      1                  1\n",
       "          2                  1\n",
       "          3                  3\n",
       "          4                  2\n",
       "          5                  1\n",
       "          6                  3\n",
       "          7                  3\n",
       "          8                  2\n",
       "          10                 4"
      ]
     },
     "execution_count": 10,
     "metadata": {},
     "output_type": "execute_result"
    }
   ],
   "source": [
    "df.groupby([\"plot_type\", \"group\"]).agg(species_count=(\"species\", \"nunique\"))"
   ]
  },
  {
   "cell_type": "code",
   "execution_count": 11,
   "id": "59156866",
   "metadata": {},
   "outputs": [
    {
     "data": {
      "application/vnd.microsoft.datawrangler.viewer.v0+json": {
       "columns": [
        {
         "name": "('plot_type', 'species')",
         "rawType": "object",
         "type": "unknown"
        },
        {
         "name": "count",
         "rawType": "int64",
         "type": "integer"
        }
       ],
       "ref": "6596773d-036b-4a50-82a8-0aa587ed9f6a",
       "rows": [
        [
         "('Mono', 'Picea Abies')",
         "31"
        ],
        [
         "('Mono', 'Abies Alba')",
         "28"
        ],
        [
         "('Mono', 'Fagus Sylvatica')",
         "9"
        ],
        [
         "('Mono', 'Pinus Sylvestris')",
         "8"
        ],
        [
         "('Mono', 'Corylus Avellana')",
         "4"
        ],
        [
         "('Mono', 'Castanea Sativa')",
         "3"
        ],
        [
         "('Mono', 'Castanea Dentata')",
         "2"
        ],
        [
         "('Mono', 'Sambucus Racemosa')",
         "1"
        ],
        [
         "('Mixed', 'Fagus Sylvatica')",
         "43"
        ],
        [
         "('Mixed', 'Picea Abies')",
         "37"
        ],
        [
         "('Mixed', 'Abies Alba')",
         "19"
        ],
        [
         "('Mixed', 'Quercus Robur')",
         "3"
        ],
        [
         "('Mixed', 'Castanea Sativa')",
         "2"
        ],
        [
         "('Mixed', 'Quercus Petraea')",
         "1"
        ]
       ],
       "shape": {
        "columns": 1,
        "rows": 14
       }
      },
      "text/html": [
       "<div>\n",
       "<style scoped>\n",
       "    .dataframe tbody tr th:only-of-type {\n",
       "        vertical-align: middle;\n",
       "    }\n",
       "\n",
       "    .dataframe tbody tr th {\n",
       "        vertical-align: top;\n",
       "    }\n",
       "\n",
       "    .dataframe thead th {\n",
       "        text-align: right;\n",
       "    }\n",
       "</style>\n",
       "<table border=\"1\" class=\"dataframe\">\n",
       "  <thead>\n",
       "    <tr style=\"text-align: right;\">\n",
       "      <th></th>\n",
       "      <th></th>\n",
       "      <th>count</th>\n",
       "    </tr>\n",
       "    <tr>\n",
       "      <th>plot_type</th>\n",
       "      <th>species</th>\n",
       "      <th></th>\n",
       "    </tr>\n",
       "  </thead>\n",
       "  <tbody>\n",
       "    <tr>\n",
       "      <th rowspan=\"8\" valign=\"top\">Mono</th>\n",
       "      <th>Picea Abies</th>\n",
       "      <td>31</td>\n",
       "    </tr>\n",
       "    <tr>\n",
       "      <th>Abies Alba</th>\n",
       "      <td>28</td>\n",
       "    </tr>\n",
       "    <tr>\n",
       "      <th>Fagus Sylvatica</th>\n",
       "      <td>9</td>\n",
       "    </tr>\n",
       "    <tr>\n",
       "      <th>Pinus Sylvestris</th>\n",
       "      <td>8</td>\n",
       "    </tr>\n",
       "    <tr>\n",
       "      <th>Corylus Avellana</th>\n",
       "      <td>4</td>\n",
       "    </tr>\n",
       "    <tr>\n",
       "      <th>Castanea Sativa</th>\n",
       "      <td>3</td>\n",
       "    </tr>\n",
       "    <tr>\n",
       "      <th>Castanea Dentata</th>\n",
       "      <td>2</td>\n",
       "    </tr>\n",
       "    <tr>\n",
       "      <th>Sambucus Racemosa</th>\n",
       "      <td>1</td>\n",
       "    </tr>\n",
       "    <tr>\n",
       "      <th rowspan=\"6\" valign=\"top\">Mixed</th>\n",
       "      <th>Fagus Sylvatica</th>\n",
       "      <td>43</td>\n",
       "    </tr>\n",
       "    <tr>\n",
       "      <th>Picea Abies</th>\n",
       "      <td>37</td>\n",
       "    </tr>\n",
       "    <tr>\n",
       "      <th>Abies Alba</th>\n",
       "      <td>19</td>\n",
       "    </tr>\n",
       "    <tr>\n",
       "      <th>Quercus Robur</th>\n",
       "      <td>3</td>\n",
       "    </tr>\n",
       "    <tr>\n",
       "      <th>Castanea Sativa</th>\n",
       "      <td>2</td>\n",
       "    </tr>\n",
       "    <tr>\n",
       "      <th>Quercus Petraea</th>\n",
       "      <td>1</td>\n",
       "    </tr>\n",
       "  </tbody>\n",
       "</table>\n",
       "</div>"
      ],
      "text/plain": [
       "                             count\n",
       "plot_type species                 \n",
       "Mono      Picea Abies           31\n",
       "          Abies Alba            28\n",
       "          Fagus Sylvatica        9\n",
       "          Pinus Sylvestris       8\n",
       "          Corylus Avellana       4\n",
       "          Castanea Sativa        3\n",
       "          Castanea Dentata       2\n",
       "          Sambucus Racemosa      1\n",
       "Mixed     Fagus Sylvatica       43\n",
       "          Picea Abies           37\n",
       "          Abies Alba            19\n",
       "          Quercus Robur          3\n",
       "          Castanea Sativa        2\n",
       "          Quercus Petraea        1"
      ]
     },
     "execution_count": 11,
     "metadata": {},
     "output_type": "execute_result"
    }
   ],
   "source": [
    "df.groupby([\"plot_type\", \"species\"]).agg(count=(\"tree_id\", \"count\")).sort_values(by=[\"plot_type\", \"count\"], ascending=False)"
   ]
  },
  {
   "cell_type": "markdown",
   "id": "bfc0c03d",
   "metadata": {},
   "source": [
    "### tree-level metrics comparison between plots"
   ]
  },
  {
   "cell_type": "code",
   "execution_count": 12,
   "id": "e957d31a",
   "metadata": {},
   "outputs": [
    {
     "data": {
      "application/vnd.microsoft.datawrangler.viewer.v0+json": {
       "columns": [
        {
         "name": "plot_type",
         "rawType": "object",
         "type": "string"
        },
        {
         "name": "('dbh', 'mean')",
         "rawType": "float64",
         "type": "float"
        },
        {
         "name": "('dbh', 'var')",
         "rawType": "float64",
         "type": "float"
        },
        {
         "name": "('height', 'mean')",
         "rawType": "float64",
         "type": "float"
        },
        {
         "name": "('height', 'var')",
         "rawType": "float64",
         "type": "float"
        },
        {
         "name": "('agb', 'mean')",
         "rawType": "float64",
         "type": "float"
        },
        {
         "name": "('agb', 'var')",
         "rawType": "float64",
         "type": "float"
        }
       ],
       "ref": "d3e3bf02-cf24-4a29-9d2d-1248dff303a4",
       "rows": [
        [
         "Mixed",
         "16.376549383815142",
         "291.51326835246033",
         "10.728285714285715",
         "77.91804126373627",
         "769.9039109989761",
         "12347621.23979042"
        ],
        [
         "Mono",
         "24.597674571640688",
         "223.47354427426612",
         "19.010697674418605",
         "117.78259244870038",
         "469.5807188429384",
         "370126.6577858611"
        ]
       ],
       "shape": {
        "columns": 6,
        "rows": 2
       }
      },
      "text/html": [
       "<div>\n",
       "<style scoped>\n",
       "    .dataframe tbody tr th:only-of-type {\n",
       "        vertical-align: middle;\n",
       "    }\n",
       "\n",
       "    .dataframe tbody tr th {\n",
       "        vertical-align: top;\n",
       "    }\n",
       "\n",
       "    .dataframe thead tr th {\n",
       "        text-align: left;\n",
       "    }\n",
       "\n",
       "    .dataframe thead tr:last-of-type th {\n",
       "        text-align: right;\n",
       "    }\n",
       "</style>\n",
       "<table border=\"1\" class=\"dataframe\">\n",
       "  <thead>\n",
       "    <tr>\n",
       "      <th></th>\n",
       "      <th colspan=\"2\" halign=\"left\">dbh</th>\n",
       "      <th colspan=\"2\" halign=\"left\">height</th>\n",
       "      <th colspan=\"2\" halign=\"left\">agb</th>\n",
       "    </tr>\n",
       "    <tr>\n",
       "      <th></th>\n",
       "      <th>mean</th>\n",
       "      <th>var</th>\n",
       "      <th>mean</th>\n",
       "      <th>var</th>\n",
       "      <th>mean</th>\n",
       "      <th>var</th>\n",
       "    </tr>\n",
       "    <tr>\n",
       "      <th>plot_type</th>\n",
       "      <th></th>\n",
       "      <th></th>\n",
       "      <th></th>\n",
       "      <th></th>\n",
       "      <th></th>\n",
       "      <th></th>\n",
       "    </tr>\n",
       "  </thead>\n",
       "  <tbody>\n",
       "    <tr>\n",
       "      <th>Mixed</th>\n",
       "      <td>16.376549</td>\n",
       "      <td>291.513268</td>\n",
       "      <td>10.728286</td>\n",
       "      <td>77.918041</td>\n",
       "      <td>769.903911</td>\n",
       "      <td>1.234762e+07</td>\n",
       "    </tr>\n",
       "    <tr>\n",
       "      <th>Mono</th>\n",
       "      <td>24.597675</td>\n",
       "      <td>223.473544</td>\n",
       "      <td>19.010698</td>\n",
       "      <td>117.782592</td>\n",
       "      <td>469.580719</td>\n",
       "      <td>3.701267e+05</td>\n",
       "    </tr>\n",
       "  </tbody>\n",
       "</table>\n",
       "</div>"
      ],
      "text/plain": [
       "                 dbh                 height                     agb  \\\n",
       "                mean         var       mean         var        mean   \n",
       "plot_type                                                             \n",
       "Mixed      16.376549  291.513268  10.728286   77.918041  769.903911   \n",
       "Mono       24.597675  223.473544  19.010698  117.782592  469.580719   \n",
       "\n",
       "                         \n",
       "                    var  \n",
       "plot_type                \n",
       "Mixed      1.234762e+07  \n",
       "Mono       3.701267e+05  "
      ]
     },
     "execution_count": 12,
     "metadata": {},
     "output_type": "execute_result"
    }
   ],
   "source": [
    "df.groupby(\"plot_type\")[[\"dbh\", \"height\", \"agb\"]].agg([\"mean\", \"var\"])\n",
    "# there are extreme values in agb, so the variance is very high"
   ]
  },
  {
   "cell_type": "code",
   "execution_count": 13,
   "id": "f558ea96",
   "metadata": {},
   "outputs": [
    {
     "data": {
      "image/png": "[encoded data removed]",
      "text/plain": [
       "<Figure size 1200x400 with 3 Axes>"
      ]
     },
     "metadata": {},
     "output_type": "display_data"
    }
   ],
   "source": [
    "# tree-level metrics comparison between plots\n",
    "fig, axes = plt.subplots(1, 3, figsize=(12, 4)) \n",
    "\n",
    "axes[0].boxplot([\n",
    "    df.groupby(\"plot_type\")[\"dbh\"].get_group(\"Mixed\").dropna().values,\n",
    "    df.groupby(\"plot_type\")[\"dbh\"].get_group(\"Mono\").dropna().values\n",
    "], tick_labels=[\"Mixed\", \"Mono\"], showmeans=True)\n",
    "axes[0].set_title(\"DBH by Plot Type\")\n",
    "axes[0].set_xlabel(\"Plot Type\")\n",
    "axes[0].set_ylabel(\"DBH (cm)\")\n",
    "\n",
    "axes[1].boxplot([\n",
    "    df.groupby(\"plot_type\")[\"height\"].get_group(\"Mixed\").dropna().values,\n",
    "    df.groupby(\"plot_type\")[\"height\"].get_group(\"Mono\").dropna().values\n",
    "], tick_labels=[\"Mixed\", \"Mono\"], showmeans=True)\n",
    "axes[1].set_title(\"Height by Plot Type\")\n",
    "axes[1].set_xlabel(\"Plot Type\")\n",
    "axes[1].set_ylabel(\"Height (m)\")\n",
    "\n",
    "axes[2].boxplot([\n",
    "    df.groupby(\"plot_type\")[\"agb\"].get_group(\"Mixed\").dropna().values,\n",
    "    df.groupby(\"plot_type\")[\"agb\"].get_group(\"Mono\").dropna().values\n",
    "], tick_labels=[\"Mixed\", \"Mono\"], showfliers=False, showmeans=True)\n",
    "# exclude outliers for better visualization\n",
    "axes[2].set_title(\"Aboveground Biomass by Plot Type\")\n",
    "axes[2].set_xlabel(\"Plot Type\")\n",
    "axes[2].set_ylabel(\"Aboveground Biomass (kg)\")\n",
    "\n",
    "plt.subplots_adjust(left=0.08, wspace=0.4)\n",
    "plt.tight_layout()\n",
    "plt.show()"
   ]
  },
  {
   "cell_type": "markdown",
   "id": "bcf3ad6f",
   "metadata": {},
   "source": [
    "### plot-level metrics comparison between plots"
   ]
  },
  {
   "cell_type": "code",
   "execution_count": 24,
   "id": "cf0b82da",
   "metadata": {},
   "outputs": [
    {
     "data": {
      "application/vnd.microsoft.datawrangler.viewer.v0+json": {
       "columns": [
        {
         "name": "plot_type",
         "rawType": "object",
         "type": "string"
        },
        {
         "name": "('lai', 'unique')",
         "rawType": "object",
         "type": "unknown"
        },
        {
         "name": "('shannon', 'unique')",
         "rawType": "object",
         "type": "unknown"
        },
        {
         "name": "('soil_pH', 'unique')",
         "rawType": "object",
         "type": "unknown"
        },
        {
         "name": "('ibp', 'unique')",
         "rawType": "object",
         "type": "unknown"
        }
       ],
       "ref": "5ddc25ac-93e8-4539-b564-3baec87f1506",
       "rows": [
        [
         "Mixed",
         "{'mean': 5.43, 'var': 3.29}",
         "{'mean': 0.92, 'var': 0.1}",
         "{'mean': 5.01, 'var': 0.05}",
         "{'mean': 27.71, 'var': 118.9}"
        ],
        [
         "Mono",
         "{'mean': 4.54, 'var': 1.11}",
         "{'mean': 0.67, 'var': 0.23}",
         "{'mean': 4.98, 'var': 0.22}",
         "{'mean': 13.83, 'var': 23.37}"
        ]
       ],
       "shape": {
        "columns": 4,
        "rows": 2
       }
      },
      "text/html": [
       "<div>\n",
       "<style scoped>\n",
       "    .dataframe tbody tr th:only-of-type {\n",
       "        vertical-align: middle;\n",
       "    }\n",
       "\n",
       "    .dataframe tbody tr th {\n",
       "        vertical-align: top;\n",
       "    }\n",
       "\n",
       "    .dataframe thead tr th {\n",
       "        text-align: left;\n",
       "    }\n",
       "\n",
       "    .dataframe thead tr:last-of-type th {\n",
       "        text-align: right;\n",
       "    }\n",
       "</style>\n",
       "<table border=\"1\" class=\"dataframe\">\n",
       "  <thead>\n",
       "    <tr>\n",
       "      <th></th>\n",
       "      <th>lai</th>\n",
       "      <th>shannon</th>\n",
       "      <th>soil_pH</th>\n",
       "      <th>ibp</th>\n",
       "    </tr>\n",
       "    <tr>\n",
       "      <th></th>\n",
       "      <th>unique</th>\n",
       "      <th>unique</th>\n",
       "      <th>unique</th>\n",
       "      <th>unique</th>\n",
       "    </tr>\n",
       "    <tr>\n",
       "      <th>plot_type</th>\n",
       "      <th></th>\n",
       "      <th></th>\n",
       "      <th></th>\n",
       "      <th></th>\n",
       "    </tr>\n",
       "  </thead>\n",
       "  <tbody>\n",
       "    <tr>\n",
       "      <th>Mixed</th>\n",
       "      <td>{'mean': 5.43, 'var': 3.29}</td>\n",
       "      <td>{'mean': 0.92, 'var': 0.1}</td>\n",
       "      <td>{'mean': 5.01, 'var': 0.05}</td>\n",
       "      <td>{'mean': 27.71, 'var': 118.9}</td>\n",
       "    </tr>\n",
       "    <tr>\n",
       "      <th>Mono</th>\n",
       "      <td>{'mean': 4.54, 'var': 1.11}</td>\n",
       "      <td>{'mean': 0.67, 'var': 0.23}</td>\n",
       "      <td>{'mean': 4.98, 'var': 0.22}</td>\n",
       "      <td>{'mean': 13.83, 'var': 23.37}</td>\n",
       "    </tr>\n",
       "  </tbody>\n",
       "</table>\n",
       "</div>"
      ],
      "text/plain": [
       "                                   lai                      shannon  \\\n",
       "                                unique                       unique   \n",
       "plot_type                                                             \n",
       "Mixed      {'mean': 5.43, 'var': 3.29}   {'mean': 0.92, 'var': 0.1}   \n",
       "Mono       {'mean': 4.54, 'var': 1.11}  {'mean': 0.67, 'var': 0.23}   \n",
       "\n",
       "                               soil_pH                            ibp  \n",
       "                                unique                         unique  \n",
       "plot_type                                                              \n",
       "Mixed      {'mean': 5.01, 'var': 0.05}  {'mean': 27.71, 'var': 118.9}  \n",
       "Mono       {'mean': 4.98, 'var': 0.22}  {'mean': 13.83, 'var': 23.37}  "
      ]
     },
     "execution_count": 24,
     "metadata": {},
     "output_type": "execute_result"
    }
   ],
   "source": [
    "df.groupby(\"plot_type\")[[\"lai\", \"shannon\", \"soil_pH\", \"ibp\"]].agg([\"unique\"]).map(\n",
    "    lambda x: (\n",
    "        {\"mean\": round(float(np.mean(x)), 2), \"var\": round(float(np.var(x, ddof=1)), 2)}\n",
    "        if isinstance(x, (list, np.ndarray)) and len(x) > 0\n",
    "        else np.nan\n",
    "    )\n",
    ")"
   ]
  },
  {
   "cell_type": "code",
   "execution_count": 15,
   "id": "50a5aec9",
   "metadata": {},
   "outputs": [
    {
     "data": {
      "image/png": "[encoded data removed]",
      "text/plain": [
       "<Figure size 1600x400 with 4 Axes>"
      ]
     },
     "metadata": {},
     "output_type": "display_data"
    }
   ],
   "source": [
    "fig, axes = plt.subplots(1, 4, figsize=(16, 4)) \n",
    "\n",
    "axes[0].boxplot([\n",
    "    df.groupby([\"plot_type\", \"group\"])[\"lai\"].unique().xs(\"Mixed\", level=\"plot_type\"),\n",
    "    df.groupby([\"plot_type\", \"group\"])[\"lai\"].unique().xs(\"Mono\", level=\"plot_type\"),\n",
    "], tick_labels=[\"Mixed\", \"Mono\"], showmeans=True)\n",
    "axes[0].set_title(\"LAI by Plot Type\")\n",
    "axes[0].set_xlabel(\"Plot Type\")\n",
    "axes[0].set_ylabel(\"LAI (m²/m²)\")\n",
    "\n",
    "axes[1].boxplot([\n",
    "    df.groupby([\"plot_type\", \"group\"])[\"shannon\"].unique().xs(\"Mixed\", level=\"plot_type\"),\n",
    "    df.groupby([\"plot_type\", \"group\"])[\"shannon\"].unique().xs(\"Mono\", level=\"plot_type\"),\n",
    "], tick_labels=[\"Mixed\", \"Mono\"], showmeans=True)\n",
    "axes[1].set_title(\"Shannon Index by Plot Type\")\n",
    "axes[1].set_xlabel(\"Plot Type\")\n",
    "axes[1].set_ylabel(\"Shannon Index\")\n",
    "\n",
    "axes[2].boxplot([\n",
    "    df.groupby([\"plot_type\", \"group\"])[\"soil_pH\"].unique().xs(\"Mixed\", level=\"plot_type\"),\n",
    "    df.groupby([\"plot_type\", \"group\"])[\"soil_pH\"].unique().xs(\"Mono\", level=\"plot_type\"),\n",
    "], tick_labels=[\"Mixed\", \"Mono\"], showmeans=True)\n",
    "axes[2].set_title(\"Soil pH by Plot Type\")\n",
    "axes[2].set_xlabel(\"Plot Type\")\n",
    "axes[2].set_ylabel(\"Soil pH\")\n",
    "\n",
    "axes[3].boxplot([\n",
    "    df.groupby([\"plot_type\", \"group\"])[\"ibp\"].unique().xs(\"Mixed\", level=\"plot_type\"),\n",
    "    df.groupby([\"plot_type\", \"group\"])[\"ibp\"].unique().xs(\"Mono\", level=\"plot_type\"),\n",
    "], tick_labels=[\"Mixed\", \"Mono\"], showmeans=True)\n",
    "axes[3].set_title(\"IBP by Plot Type\")\n",
    "axes[3].set_xlabel(\"Plot Type\")\n",
    "axes[3].set_ylabel(\"IBP\")\n",
    "\n",
    "plt.subplots_adjust(left=0.05, wspace=0.4)\n",
    "plt.tight_layout()\n",
    "plt.show()"
   ]
  },
  {
   "cell_type": "markdown",
   "id": "68b5aa24",
   "metadata": {},
   "source": [
    "### tree-level metrics comparison between the 3 most common species"
   ]
  },
  {
   "cell_type": "code",
   "execution_count": 16,
   "id": "87a73f0d",
   "metadata": {},
   "outputs": [
    {
     "data": {
      "image/png": "[encoded data removed]",
      "text/plain": [
       "<Figure size 1200x400 with 3 Axes>"
      ]
     },
     "metadata": {},
     "output_type": "display_data"
    }
   ],
   "source": [
    "fig, axes = plt.subplots(1, 3, figsize=(12, 4)) \n",
    "\n",
    "axes[0].boxplot([\n",
    "    df.groupby(\"species\")[\"dbh\"].get_group(\"Abies Alba\").dropna().values,\n",
    "    df.groupby(\"species\")[\"dbh\"].get_group(\"Fagus Sylvatica\").dropna().values,\n",
    "    df.groupby(\"species\")[\"dbh\"].get_group(\"Picea Abies\").dropna().values,\n",
    "], tick_labels=[\"Abies Alba\", \"Fagus Sylvatica\", \"Picea Abies\"], showmeans=True)\n",
    "axes[0].set_title(\"DBH by Species Type\")\n",
    "axes[0].set_xlabel(\"Species\")\n",
    "axes[0].set_ylabel(\"DBH (cm)\")\n",
    "\n",
    "axes[1].boxplot([\n",
    "    df.groupby(\"species\")[\"height\"].get_group(\"Abies Alba\").dropna().values,\n",
    "    df.groupby(\"species\")[\"height\"].get_group(\"Fagus Sylvatica\").dropna().values,\n",
    "    df.groupby(\"species\")[\"height\"].get_group(\"Picea Abies\").dropna().values,\n",
    "], tick_labels=[\"Abies Alba\", \"Fagus Sylvatica\", \"Picea Abies\"], showmeans=True)\n",
    "axes[1].set_title(\"Height by Species Type\")\n",
    "axes[1].set_xlabel(\"Species\")\n",
    "axes[1].set_ylabel(\"Height (m)\")\n",
    "\n",
    "axes[2].boxplot([\n",
    "    df.groupby(\"species\")[\"agb\"].get_group(\"Abies Alba\").dropna().values,\n",
    "    df.groupby(\"species\")[\"agb\"].get_group(\"Fagus Sylvatica\").dropna().values,\n",
    "    df.groupby(\"species\")[\"agb\"].get_group(\"Picea Abies\").dropna().values,\n",
    "], tick_labels=[\"Abies Alba\", \"Fagus Sylvatica\", \"Picea Abies\"], showfliers=False, showmeans=True)\n",
    "# exclude outliers for better visualization\n",
    "axes[2].set_title(\"Aboveground Biomass by Species Type\")\n",
    "axes[2].set_xlabel(\"Species\")\n",
    "axes[2].set_ylabel(\"Aboveground Biomass (kg)\")\n",
    "\n",
    "plt.subplots_adjust(left=0.08, wspace=0.4)\n",
    "plt.tight_layout()\n",
    "plt.show()"
   ]
  },
  {
   "cell_type": "code",
   "execution_count": 17,
   "id": "9608160c",
   "metadata": {},
   "outputs": [
    {
     "data": {
      "image/png": "[encoded data removed]",
      "text/plain": [
       "<Figure size 1400x800 with 3 Axes>"
      ]
     },
     "metadata": {},
     "output_type": "display_data"
    }
   ],
   "source": [
    "species_order = [\"Abies Alba\", \"Fagus Sylvatica\", \"Picea Abies\"]\n",
    "plots = sorted(df[\"plot_type\"].dropna().unique().tolist())\n",
    "\n",
    "def grouped_boxplot(ax, df, value_col, ylabel, show_fliers=True):\n",
    "    import numpy as np\n",
    "    x = np.arange(1, len(species_order) + 1)\n",
    "    width = 0.35  \n",
    "    offsets = np.linspace(-width/2, width/2, num=len(plots))\n",
    "\n",
    "    # draw boxes for each plot with a slight x-offset\n",
    "    for k, pl in enumerate(plots):\n",
    "        d = df[df[\"plot_type\"] == pl]\n",
    "        data = [d.loc[d[\"species\"] == sp, value_col].dropna().values for sp in species_order]\n",
    "        bp = ax.boxplot(\n",
    "            data,\n",
    "            positions=x + offsets[k],\n",
    "            widths=width * 0.8,\n",
    "            showmeans=True,\n",
    "            showfliers=show_fliers,\n",
    "            patch_artist=False  # ensures no color fill\n",
    "        )\n",
    "        \n",
    "        # optional: color outlines differently per plot\n",
    "        color = f\"C{k}\"  # matplotlib default color cycle\n",
    "        for element in ['boxes', 'whiskers', 'caps', 'medians', 'means']:\n",
    "            plt.setp(bp[element], color=color)\n",
    "\n",
    "        ax.plot([], [], color=color, label=f\"Plot {pl}\")\n",
    "\n",
    "    ax.set_xticks(x, species_order, rotation=0)\n",
    "    ax.set_xlabel(\"Species\")\n",
    "    ax.set_ylabel(ylabel)\n",
    "    ax.legend(title=\"Plot\", frameon=False)\n",
    "\n",
    "fig, axes = plt.subplots(1, 3, figsize=(14, 8), sharex=False)\n",
    "grouped_boxplot(axes[0], df, \"dbh\", \"DBH (cm)\")\n",
    "grouped_boxplot(axes[1], df, \"height\", \"Height (m)\")\n",
    "grouped_boxplot(axes[2], df, \"agb\", \"Aboveground Biomass (kg)\", show_fliers=False)\n",
    "plt.tight_layout()\n",
    "plt.show()"
   ]
  },
  {
   "cell_type": "markdown",
   "id": "8c5c8322",
   "metadata": {},
   "source": [
    "# Group Comparisons"
   ]
  },
  {
   "cell_type": "code",
   "execution_count": 18,
   "id": "9854d8e4",
   "metadata": {},
   "outputs": [],
   "source": [
    "# function for ANOVA test and Tukey HSD post-hoc test\n",
    "def anova_tukey(data, dependent_var, independent_var):\n",
    "    print(\"=\" * 60)\n",
    "    print(f\"Test for: {dependent_var}\")\n",
    "    print(\"=\" * 60)\n",
    "\n",
    "    model = ols(f\"{dependent_var} ~ C({independent_var})\", data=data).fit()\n",
    "    anova_table = sm.stats.anova_lm(model, typ=2)\n",
    "    print(\"ANOVA results:\")\n",
    "    print(anova_table)\n",
    "\n",
    "    if anova_table.loc[f\"C({independent_var})\",\"PR(>F)\"] < 0.05:\n",
    "        print(\"\\nTukey HSD post-hoc test results:\")\n",
    "        tukey = sm.stats.multicomp.pairwise_tukeyhsd(\n",
    "            endog=data[dependent_var],\n",
    "            groups=data[independent_var],\n",
    "            alpha=0.05\n",
    "        )\n",
    "        print(tukey)\n",
    "    else:\n",
    "        print(\"\\nNo significant differences found among groups.\")"
   ]
  },
  {
   "cell_type": "markdown",
   "id": "667f5e4e",
   "metadata": {},
   "source": [
    "### Group comparison between Mixed & Mono"
   ]
  },
  {
   "cell_type": "code",
   "execution_count": 19,
   "id": "2a8b9299",
   "metadata": {},
   "outputs": [
    {
     "name": "stdout",
     "output_type": "stream",
     "text": [
      "============================================================\n",
      "Test for: dbh\n",
      "============================================================\n",
      "ANOVA results:\n",
      "                    sum_sq     df          F    PR(>F)\n",
      "C(plot_type)   3195.338750    1.0  12.246741  0.000581\n",
      "Residual      49312.631172  189.0        NaN       NaN\n",
      "\n",
      "Tukey HSD post-hoc test results:\n",
      "Multiple Comparison of Means - Tukey HSD, FWER=0.05\n",
      "===================================================\n",
      "group1 group2 meandiff p-adj  lower   upper  reject\n",
      "---------------------------------------------------\n",
      " Mixed   Mono   8.2211 0.0006 3.5871 12.8552   True\n",
      "---------------------------------------------------\n",
      "============================================================\n",
      "Test for: height\n",
      "============================================================\n",
      "ANOVA results:\n",
      "                    sum_sq     df          F        PR(>F)\n",
      "C(plot_type)   3243.157494    1.0  33.836979  2.519909e-08\n",
      "Residual      18114.996650  189.0        NaN           NaN\n",
      "\n",
      "Tukey HSD post-hoc test results:\n",
      "Multiple Comparison of Means - Tukey HSD, FWER=0.05\n",
      "==================================================\n",
      "group1 group2 meandiff p-adj lower   upper  reject\n",
      "--------------------------------------------------\n",
      " Mixed   Mono   8.2824   0.0 5.4738 11.0911   True\n",
      "--------------------------------------------------\n",
      "============================================================\n",
      "Test for: agb\n",
      "============================================================\n",
      "ANOVA results:\n",
      "                    sum_sq     df         F    PR(>F)\n",
      "C(plot_type)  4.264147e+06    1.0  0.612584  0.434796\n",
      "Residual      1.315613e+09  189.0       NaN       NaN\n",
      "\n",
      "No significant differences found among groups.\n",
      "============================================================\n",
      "Test for: lai\n",
      "============================================================\n",
      "ANOVA results:\n",
      "                 sum_sq     df          F        PR(>F)\n",
      "C(plot_type)   95.81955    1.0  70.715027  9.894956e-15\n",
      "Residual      256.09684  189.0        NaN           NaN\n",
      "\n",
      "Tukey HSD post-hoc test results:\n",
      "Multiple Comparison of Means - Tukey HSD, FWER=0.05\n",
      "===================================================\n",
      "group1 group2 meandiff p-adj  lower   upper  reject\n",
      "---------------------------------------------------\n",
      " Mixed   Mono  -1.4236   0.0 -1.7576 -1.0897   True\n",
      "---------------------------------------------------\n",
      "============================================================\n",
      "Test for: shannon\n",
      "============================================================\n",
      "ANOVA results:\n",
      "                 sum_sq     df          F        PR(>F)\n",
      "C(plot_type)   6.593648    1.0  56.644275  2.070561e-12\n",
      "Residual      22.000448  189.0        NaN           NaN\n",
      "\n",
      "Tukey HSD post-hoc test results:\n",
      "Multiple Comparison of Means - Tukey HSD, FWER=0.05\n",
      "===================================================\n",
      "group1 group2 meandiff p-adj  lower   upper  reject\n",
      "---------------------------------------------------\n",
      " Mixed   Mono  -0.3735   0.0 -0.4713 -0.2756   True\n",
      "---------------------------------------------------\n",
      "============================================================\n",
      "Test for: soil_pH\n",
      "============================================================\n",
      "ANOVA results:\n",
      "                 sum_sq     df         F    PR(>F)\n",
      "C(plot_type)   0.575784    1.0  6.733863  0.010202\n",
      "Residual      16.160589  189.0       NaN       NaN\n",
      "\n",
      "Tukey HSD post-hoc test results:\n",
      "Multiple Comparison of Means - Tukey HSD, FWER=0.05 \n",
      "====================================================\n",
      "group1 group2 meandiff p-adj   lower   upper  reject\n",
      "----------------------------------------------------\n",
      " Mixed   Mono  -0.1104 0.0102 -0.1942 -0.0265   True\n",
      "----------------------------------------------------\n",
      "============================================================\n",
      "Test for: ibp\n",
      "============================================================\n",
      "ANOVA results:\n",
      "                    sum_sq     df           F        PR(>F)\n",
      "C(plot_type)  15367.327758    1.0  314.914769  4.137693e-42\n",
      "Residual       9222.892137  189.0         NaN           NaN\n",
      "\n",
      "Tukey HSD post-hoc test results:\n",
      " Multiple Comparison of Means - Tukey HSD, FWER=0.05 \n",
      "=====================================================\n",
      "group1 group2 meandiff p-adj  lower    upper   reject\n",
      "-----------------------------------------------------\n",
      " Mixed   Mono  -18.029   0.0 -20.0331 -16.0249   True\n",
      "-----------------------------------------------------\n"
     ]
    }
   ],
   "source": [
    "for var in vars_list:\n",
    "    anova_tukey(df, var, \"plot_type\")"
   ]
  },
  {
   "cell_type": "markdown",
   "id": "398be989",
   "metadata": {},
   "source": [
    "### Group comparison between species"
   ]
  },
  {
   "cell_type": "code",
   "execution_count": 20,
   "id": "1119648a",
   "metadata": {},
   "outputs": [
    {
     "name": "stdout",
     "output_type": "stream",
     "text": [
      "============================================================\n",
      "Test for: dbh\n",
      "============================================================\n",
      "ANOVA results:\n",
      "                  sum_sq     df         F   PR(>F)\n",
      "C(species)  10082.839831    9.0  4.779646  0.00001\n",
      "Residual    42425.130091  181.0       NaN      NaN\n",
      "\n",
      "Tukey HSD post-hoc test results:\n",
      "            Multiple Comparison of Means - Tukey HSD, FWER=0.05             \n",
      "============================================================================\n",
      "     group1            group2      meandiff p-adj    lower    upper   reject\n",
      "----------------------------------------------------------------------------\n",
      "      Abies Alba  Castanea Dentata -18.0375 0.8308  -53.4492  17.3742  False\n",
      "      Abies Alba   Castanea Sativa  -8.7588 0.9689  -31.8306  14.3129  False\n",
      "      Abies Alba  Corylus Avellana -18.7885 0.3587  -44.3343   6.7573  False\n",
      "      Abies Alba   Fagus Sylvatica  -4.6315 0.8894   -14.503   5.2399  False\n",
      "      Abies Alba       Picea Abies    0.123    1.0   -9.1807   9.4268  False\n",
      "      Abies Alba  Pinus Sylvestris  11.6495 0.6075   -7.1091  30.4081  False\n",
      "      Abies Alba   Quercus Petraea  45.8625 0.0961   -3.7036  95.4286  False\n",
      "      Abies Alba     Quercus Robur   32.963 0.0139    3.7559  62.1701   True\n",
      "      Abies Alba Sambucus Racemosa -14.5713 0.9948  -64.1374  34.9948  False\n",
      "Castanea Dentata   Castanea Sativa   9.2787 0.9993  -31.7571  50.3144  False\n",
      "Castanea Dentata  Corylus Avellana   -0.751    1.0   -43.227   41.725  False\n",
      "Castanea Dentata   Fagus Sylvatica  13.4059 0.9691  -21.9362  48.7481  False\n",
      "Castanea Dentata       Picea Abies  18.1605 0.8196  -17.0273  53.3483  False\n",
      "Castanea Dentata  Pinus Sylvestris   29.687 0.3015   -9.0881  68.4621  False\n",
      "Castanea Dentata   Quercus Petraea     63.9 0.0271    3.8299 123.9701   True\n",
      "Castanea Dentata     Quercus Robur  51.0005 0.0124    6.2268  95.7741   True\n",
      "Castanea Dentata Sambucus Racemosa   3.4662    1.0  -56.6039  63.5363  False\n",
      " Castanea Sativa  Corylus Avellana -10.0297 0.9932  -42.9315  22.8721  False\n",
      " Castanea Sativa   Fagus Sylvatica   4.1273 0.9999  -18.8376  27.0921  False\n",
      " Castanea Sativa       Picea Abies   8.8818 0.9626  -13.8448  31.6085  False\n",
      " Castanea Sativa  Pinus Sylvestris  20.4083 0.3698   -7.5528  48.3694  False\n",
      " Castanea Sativa   Quercus Petraea  54.6213 0.0428     0.893 108.3497   True\n",
      " Castanea Sativa     Quercus Robur  41.7218 0.0094    5.9029  77.5407   True\n",
      " Castanea Sativa Sambucus Racemosa  -5.8125    1.0  -59.5408  47.9159  False\n",
      "Corylus Avellana   Fagus Sylvatica   14.157 0.7456  -11.2923  39.6062  False\n",
      "Corylus Avellana       Picea Abies  18.9115 0.3316    -6.323   44.146  False\n",
      "Corylus Avellana  Pinus Sylvestris   30.438 0.0441    0.4029  60.4731   True\n",
      "Corylus Avellana   Quercus Petraea   64.651  0.008    9.8147 119.4873   True\n",
      "Corylus Avellana     Quercus Robur  51.7515 0.0007   14.2912  89.2118   True\n",
      "Corylus Avellana Sambucus Racemosa   4.2172    1.0  -50.6191  59.0535  False\n",
      " Fagus Sylvatica       Picea Abies   4.7546 0.8021   -4.2808    13.79  False\n",
      " Fagus Sylvatica  Pinus Sylvestris   16.281 0.1443   -2.3459   34.908  False\n",
      " Fagus Sylvatica   Quercus Petraea  50.4941 0.0416    0.9776 100.0105   True\n",
      " Fagus Sylvatica     Quercus Robur  37.5945 0.0022    8.4718  66.7173   True\n",
      " Fagus Sylvatica Sambucus Racemosa  -9.9397 0.9997  -59.4562  39.5767  False\n",
      "     Picea Abies  Pinus Sylvestris  11.5265 0.5902    -6.806  29.8589  False\n",
      "     Picea Abies   Quercus Petraea  45.7395 0.0957   -3.6669  95.1459  False\n",
      "     Picea Abies     Quercus Robur    32.84  0.013    3.9047  61.7752   True\n",
      "     Picea Abies Sambucus Racemosa -14.6943 0.9944  -64.1007  34.7121  False\n",
      "Pinus Sylvestris   Quercus Petraea   34.213 0.5251  -17.8092  86.2353  False\n",
      "Pinus Sylvestris     Quercus Robur  21.3135 0.5606  -11.8915  54.5185  False\n",
      "Pinus Sylvestris Sambucus Racemosa -26.2208 0.8394   -78.243  25.8015  False\n",
      " Quercus Petraea     Quercus Robur -12.8995 0.9993  -69.5342  43.7351  False\n",
      " Quercus Petraea Sambucus Racemosa -60.4338 0.1474 -129.7968   8.9292  False\n",
      "   Quercus Robur Sambucus Racemosa -47.5343 0.1862  -104.169   9.1004  False\n",
      "----------------------------------------------------------------------------\n",
      "============================================================\n",
      "Test for: height\n",
      "============================================================\n",
      "ANOVA results:\n",
      "                  sum_sq     df         F   PR(>F)\n",
      "C(species)   4109.137454    9.0  4.790958  0.00001\n",
      "Residual    17249.016689  181.0       NaN      NaN\n",
      "\n",
      "Tukey HSD post-hoc test results:\n",
      "           Multiple Comparison of Means - Tukey HSD, FWER=0.05            \n",
      "==========================================================================\n",
      "     group1            group2      meandiff p-adj   lower    upper  reject\n",
      "--------------------------------------------------------------------------\n",
      "      Abies Alba  Castanea Dentata -12.0883 0.7856  -34.668 10.4914  False\n",
      "      Abies Alba   Castanea Sativa  -7.7583 0.8001 -22.4696   6.953  False\n",
      "      Abies Alba  Corylus Avellana -11.9408 0.3635 -28.2296   4.348  False\n",
      "      Abies Alba   Fagus Sylvatica  -3.2073 0.8305  -9.5017   3.087  False\n",
      "      Abies Alba       Picea Abies   0.6866    1.0  -5.2458  6.6189  False\n",
      "      Abies Alba  Pinus Sylvestris  13.1617 0.0187   1.2006 25.1228   True\n",
      "      Abies Alba   Quercus Petraea  14.1617 0.9144 -17.4433 45.7667  False\n",
      "      Abies Alba     Quercus Robur  15.7617 0.1771  -2.8617 34.3851  False\n",
      "      Abies Alba Sambucus Racemosa  -8.6383  0.997 -40.2433 22.9667  False\n",
      "Castanea Dentata   Castanea Sativa     4.33 0.9999 -21.8357 30.4957  False\n",
      "Castanea Dentata  Corylus Avellana   0.1475    1.0 -26.9366 27.2316  False\n",
      "Castanea Dentata   Fagus Sylvatica    8.881 0.9605 -13.6544 31.4163  False\n",
      "Castanea Dentata       Picea Abies  12.7749 0.7192  -9.6621 35.2118  False\n",
      "Castanea Dentata  Pinus Sylvestris    25.25  0.041   0.5257 49.9743   True\n",
      "Castanea Dentata   Quercus Petraea    26.25 0.4637 -12.0527 64.5527  False\n",
      "Castanea Dentata     Quercus Robur    27.85 0.0624  -0.6991 56.3991  False\n",
      "Castanea Dentata Sambucus Racemosa     3.45    1.0 -34.8527 41.7527  False\n",
      " Castanea Sativa  Corylus Avellana  -4.1825 0.9998 -25.1617 16.7967  False\n",
      " Castanea Sativa   Fagus Sylvatica    4.551 0.9922 -10.0922 19.1941  False\n",
      " Castanea Sativa       Picea Abies   8.4449 0.6912  -6.0464 22.9361  False\n",
      " Castanea Sativa  Pinus Sylvestris    20.92 0.0085   3.0911 38.7489   True\n",
      " Castanea Sativa   Quercus Petraea    21.92 0.5652  -12.339  56.179  False\n",
      " Castanea Sativa     Quercus Robur    23.52 0.0378   0.6807 46.3593   True\n",
      " Castanea Sativa Sambucus Racemosa    -0.88    1.0  -35.139  33.379  False\n",
      "Corylus Avellana   Fagus Sylvatica   8.7335 0.7804  -7.4938 24.9608  False\n",
      "Corylus Avellana       Picea Abies  12.6274 0.2681   -3.463 28.7177  False\n",
      "Corylus Avellana  Pinus Sylvestris  25.1025 0.0017   5.9512 44.2538   True\n",
      "Corylus Avellana   Quercus Petraea  26.1025 0.3371  -8.8629 61.0679  False\n",
      "Corylus Avellana     Quercus Robur  27.7025 0.0099   3.8166 51.5884   True\n",
      "Corylus Avellana Sambucus Racemosa   3.3025    1.0 -31.6629 38.2679  False\n",
      " Fagus Sylvatica       Picea Abies   3.8939 0.4845  -1.8674  9.6552  False\n",
      " Fagus Sylvatica  Pinus Sylvestris   16.369 0.0007   4.4919 28.2462   True\n",
      " Fagus Sylvatica   Quercus Petraea   17.369 0.7577 -14.2043 48.9423  False\n",
      " Fagus Sylvatica     Quercus Robur   18.969 0.0409   0.3994 37.5386   True\n",
      " Fagus Sylvatica Sambucus Racemosa   -5.431 0.9999 -37.0043 26.1423  False\n",
      "     Picea Abies  Pinus Sylvestris  12.4751 0.0262   0.7858 24.1645   True\n",
      "     Picea Abies   Quercus Petraea  13.4751 0.9347  -18.028 44.9783  False\n",
      "     Picea Abies     Quercus Robur  15.0751 0.2172  -3.3749 33.5252  False\n",
      "     Picea Abies Sambucus Racemosa  -9.3249 0.9946  -40.828 22.1783  False\n",
      "Pinus Sylvestris   Quercus Petraea      1.0    1.0 -32.1711 34.1711  False\n",
      "Pinus Sylvestris     Quercus Robur      2.6    1.0 -18.5726 23.7726  False\n",
      "Pinus Sylvestris Sambucus Racemosa    -21.8 0.5262 -54.9711 11.3711  False\n",
      " Quercus Petraea     Quercus Robur      1.6    1.0 -34.5121 37.7121  False\n",
      " Quercus Petraea Sambucus Racemosa    -22.8 0.8206 -67.0281 21.4281  False\n",
      "   Quercus Robur Sambucus Racemosa    -24.4  0.485 -60.5121 11.7121  False\n",
      "--------------------------------------------------------------------------\n",
      "============================================================\n",
      "Test for: agb\n",
      "============================================================\n",
      "ANOVA results:\n",
      "                  sum_sq     df         F    PR(>F)\n",
      "C(species)  4.734594e+07    9.0  0.748256  0.664284\n",
      "Residual    1.272532e+09  181.0       NaN       NaN\n",
      "\n",
      "No significant differences found among groups.\n",
      "============================================================\n",
      "Test for: lai\n",
      "============================================================\n",
      "ANOVA results:\n",
      "                sum_sq     df         F        PR(>F)\n",
      "C(species)   86.554773    9.0  6.559776  4.410959e-08\n",
      "Residual    265.361616  181.0       NaN           NaN\n",
      "\n",
      "Tukey HSD post-hoc test results:\n",
      "           Multiple Comparison of Means - Tukey HSD, FWER=0.05           \n",
      "=========================================================================\n",
      "     group1            group2      meandiff p-adj   lower   upper  reject\n",
      "-------------------------------------------------------------------------\n",
      "      Abies Alba  Castanea Dentata   2.0309 0.3794 -0.7698  4.8315  False\n",
      "      Abies Alba   Castanea Sativa   0.4889 0.9974 -1.3358  2.3135  False\n",
      "      Abies Alba  Corylus Avellana  -0.5516  0.997  -2.572  1.4687  False\n",
      "      Abies Alba   Fagus Sylvatica   0.8337  0.026   0.053  1.6144   True\n",
      "      Abies Alba       Picea Abies   0.9869 0.0011  0.2511  1.7227   True\n",
      "      Abies Alba  Pinus Sylvestris  -1.6991 0.0116 -3.1827 -0.2156   True\n",
      "      Abies Alba   Quercus Petraea  -1.1991 0.9931 -5.1192  2.7209  False\n",
      "      Abies Alba     Quercus Robur   1.3009 0.7318 -1.0091  3.6108  False\n",
      "      Abies Alba Sambucus Racemosa  -0.2891    1.0 -4.2092  3.6309  False\n",
      "Castanea Dentata   Castanea Sativa   -1.542 0.8817 -4.7874  1.7034  False\n",
      "Castanea Dentata  Corylus Avellana  -2.5825 0.2959 -5.9418  0.7768  False\n",
      "Castanea Dentata   Fagus Sylvatica  -1.1971 0.9342 -3.9922   1.598  False\n",
      "Castanea Dentata       Picea Abies   -1.044 0.9713 -3.8269  1.7389  False\n",
      "Castanea Dentata  Pinus Sylvestris    -3.73 0.0052 -6.7966 -0.6634   True\n",
      "Castanea Dentata   Quercus Petraea    -3.23 0.4756 -7.9808  1.5208  False\n",
      "Castanea Dentata     Quercus Robur    -0.73 0.9997  -4.271   2.811  False\n",
      "Castanea Dentata Sambucus Racemosa    -2.32 0.8633 -7.0708  2.4308  False\n",
      " Castanea Sativa  Corylus Avellana  -1.0405 0.9567 -3.6426  1.5616  False\n",
      " Castanea Sativa   Fagus Sylvatica   0.3449 0.9998 -1.4713  2.1611  False\n",
      " Castanea Sativa       Picea Abies    0.498 0.9967 -1.2994  2.2954  False\n",
      " Castanea Sativa  Pinus Sylvestris   -2.188 0.0551 -4.3994  0.0234  False\n",
      " Castanea Sativa   Quercus Petraea   -1.688 0.9585 -5.9372  2.5612  False\n",
      " Castanea Sativa     Quercus Robur    0.812 0.9957 -2.0208  3.6448  False\n",
      " Castanea Sativa Sambucus Racemosa   -0.778 0.9999 -5.0272  3.4712  False\n",
      "Corylus Avellana   Fagus Sylvatica   1.3854 0.4572 -0.6273  3.3981  False\n",
      "Corylus Avellana       Picea Abies   1.5385 0.2921 -0.4572  3.5343  False\n",
      "Corylus Avellana  Pinus Sylvestris  -1.1475 0.8708 -3.5229  1.2279  False\n",
      "Corylus Avellana   Quercus Petraea  -0.6475    1.0 -4.9844  3.6894  False\n",
      "Corylus Avellana     Quercus Robur   1.8525 0.5979 -1.1101  4.8151  False\n",
      "Corylus Avellana Sambucus Racemosa   0.2625    1.0 -4.0744  4.5994  False\n",
      " Fagus Sylvatica       Picea Abies   0.1531 0.9996 -0.5614  0.8677  False\n",
      " Fagus Sylvatica  Pinus Sylvestris  -2.5329    0.0  -4.006 -1.0597   True\n",
      " Fagus Sylvatica   Quercus Petraea  -2.0329 0.8145  -5.949  1.8832  False\n",
      " Fagus Sylvatica     Quercus Robur   0.4671 0.9997 -1.8361  2.7704  False\n",
      " Fagus Sylvatica Sambucus Racemosa  -1.1229 0.9957  -5.039  2.7932  False\n",
      "     Picea Abies  Pinus Sylvestris   -2.686    0.0 -4.1359 -1.2362   True\n",
      "     Picea Abies   Quercus Petraea   -2.186 0.7393 -6.0935  1.7214  False\n",
      "     Picea Abies     Quercus Robur    0.314    1.0 -1.9744  2.6024  False\n",
      "     Picea Abies Sambucus Racemosa   -1.276 0.9889 -5.1835  2.6314  False\n",
      "Pinus Sylvestris   Quercus Petraea      0.5    1.0 -3.6143  4.6143  False\n",
      "Pinus Sylvestris     Quercus Robur      3.0  0.012  0.3739  5.6261   True\n",
      "Pinus Sylvestris Sambucus Racemosa     1.41 0.9844 -2.7043  5.5243  False\n",
      " Quercus Petraea     Quercus Robur      2.5 0.7419 -1.9791  6.9791  False\n",
      " Quercus Petraea Sambucus Racemosa     0.91 0.9999 -4.5757  6.3957  False\n",
      "   Quercus Robur Sambucus Racemosa    -1.59 0.9801 -6.0691  2.8891  False\n",
      "-------------------------------------------------------------------------\n",
      "============================================================\n",
      "Test for: shannon\n",
      "============================================================\n",
      "ANOVA results:\n",
      "               sum_sq     df         F    PR(>F)\n",
      "C(species)   5.254995    9.0  4.528186  0.000022\n",
      "Residual    23.339101  181.0       NaN       NaN\n",
      "\n",
      "Tukey HSD post-hoc test results:\n",
      "           Multiple Comparison of Means - Tukey HSD, FWER=0.05           \n",
      "=========================================================================\n",
      "     group1            group2      meandiff p-adj   lower   upper  reject\n",
      "-------------------------------------------------------------------------\n",
      "      Abies Alba  Castanea Dentata   0.0676    1.0  -0.763  0.8981  False\n",
      "      Abies Alba   Castanea Sativa   0.2948  0.768 -0.2463  0.8359  False\n",
      "      Abies Alba  Corylus Avellana   0.6856 0.0117  0.0864  1.2847   True\n",
      "      Abies Alba   Fagus Sylvatica   0.2284 0.0566 -0.0031  0.4599  False\n",
      "      Abies Alba       Picea Abies  -0.0135    1.0 -0.2317  0.2047  False\n",
      "      Abies Alba  Pinus Sylvestris  -0.1916 0.9274 -0.6316  0.2484  False\n",
      "      Abies Alba   Quercus Petraea   0.4702 0.9535 -0.6923  1.6328  False\n",
      "      Abies Alba     Quercus Robur    0.579 0.1785  -0.106  1.2641  False\n",
      "      Abies Alba Sambucus Racemosa   0.2583 0.9994 -0.9043  1.4208  False\n",
      "Castanea Dentata   Castanea Sativa   0.2273  0.999 -0.7352  1.1897  False\n",
      "Castanea Dentata  Corylus Avellana    0.618  0.609 -0.3782  1.6143  False\n",
      "Castanea Dentata   Fagus Sylvatica   0.1608 0.9998 -0.6681  0.9898  False\n",
      "Castanea Dentata       Picea Abies  -0.0811    1.0 -0.9064  0.7442  False\n",
      "Castanea Dentata  Pinus Sylvestris  -0.2591 0.9959 -1.1686  0.6503  False\n",
      "Castanea Dentata   Quercus Petraea   0.4027 0.9958 -1.0063  1.8116  False\n",
      "Castanea Dentata     Quercus Robur   0.5115 0.8652 -0.5387  1.5616  False\n",
      "Castanea Dentata Sambucus Racemosa   0.1907    1.0 -1.2182  1.5997  False\n",
      " Castanea Sativa  Corylus Avellana   0.3908 0.8357 -0.3809  1.1625  False\n",
      " Castanea Sativa   Fagus Sylvatica  -0.0664    1.0  -0.605  0.4722  False\n",
      " Castanea Sativa       Picea Abies  -0.3083 0.7003 -0.8414  0.2247  False\n",
      " Castanea Sativa  Pinus Sylvestris  -0.4864 0.3465 -1.1422  0.1694  False\n",
      " Castanea Sativa   Quercus Petraea   0.1754    1.0 -1.0848  1.4356  False\n",
      " Castanea Sativa     Quercus Robur   0.2842 0.9857 -0.5559  1.1243  False\n",
      " Castanea Sativa Sambucus Racemosa  -0.0365    1.0 -1.2967  1.2237  False\n",
      "Corylus Avellana   Fagus Sylvatica  -0.4572  0.301 -1.0541  0.1397  False\n",
      "Corylus Avellana       Picea Abies  -0.6991 0.0078  -1.291 -0.1072   True\n",
      "Corylus Avellana  Pinus Sylvestris  -0.8772 0.0037 -1.5816 -0.1727   True\n",
      "Corylus Avellana   Quercus Petraea  -0.2153 0.9999 -1.5015  1.0708  False\n",
      "Corylus Avellana     Quercus Robur  -0.1065    1.0 -0.9852  0.7721  False\n",
      "Corylus Avellana Sambucus Racemosa  -0.4273 0.9874 -1.7135  0.8589  False\n",
      " Fagus Sylvatica       Picea Abies  -0.2419 0.0121 -0.4538   -0.03   True\n",
      " Fagus Sylvatica  Pinus Sylvestris    -0.42 0.0708 -0.8569  0.0169  False\n",
      " Fagus Sylvatica   Quercus Petraea   0.2418 0.9997 -0.9196  1.4032  False\n",
      " Fagus Sylvatica     Quercus Robur   0.3506 0.8243 -0.3324  1.0337  False\n",
      " Fagus Sylvatica Sambucus Racemosa   0.0299    1.0 -1.1315  1.1913  False\n",
      "     Picea Abies  Pinus Sylvestris  -0.1781 0.9462  -0.608  0.2519  False\n",
      "     Picea Abies   Quercus Petraea   0.4838 0.9435 -0.6751  1.6426  False\n",
      "     Picea Abies     Quercus Robur   0.5926 0.1453 -0.0861  1.2712  False\n",
      "     Picea Abies Sambucus Racemosa   0.2718 0.9991  -0.887  1.4306  False\n",
      "Pinus Sylvestris   Quercus Petraea   0.6618 0.7725 -0.5583   1.882  False\n",
      "Pinus Sylvestris     Quercus Robur   0.7706 0.0551 -0.0082  1.5494  False\n",
      "Pinus Sylvestris Sambucus Racemosa   0.4499 0.9744 -0.7703    1.67  False\n",
      " Quercus Petraea     Quercus Robur   0.1088    1.0 -1.2196  1.4371  False\n",
      " Quercus Petraea Sambucus Racemosa   -0.212    1.0 -1.8388  1.4149  False\n",
      "   Quercus Robur Sambucus Racemosa  -0.3207 0.9989 -1.6491  1.0076  False\n",
      "-------------------------------------------------------------------------\n",
      "============================================================\n",
      "Test for: soil_pH\n",
      "============================================================\n",
      "ANOVA results:\n",
      "               sum_sq     df          F        PR(>F)\n",
      "C(species)   6.196209    9.0  11.822648  1.460368e-14\n",
      "Residual    10.540164  181.0        NaN           NaN\n",
      "\n",
      "Tukey HSD post-hoc test results:\n",
      "          Multiple Comparison of Means - Tukey HSD, FWER=0.05           \n",
      "========================================================================\n",
      "     group1            group2      meandiff p-adj   lower  upper  reject\n",
      "------------------------------------------------------------------------\n",
      "      Abies Alba  Castanea Dentata   0.1949 0.9823 -0.3633 0.7531  False\n",
      "      Abies Alba   Castanea Sativa   0.2429 0.5022 -0.1208 0.6066  False\n",
      "      Abies Alba  Corylus Avellana   0.5549 0.0007  0.1522 0.9575   True\n",
      "      Abies Alba   Fagus Sylvatica   0.3516    0.0   0.196 0.5072   True\n",
      "      Abies Alba       Picea Abies     0.43    0.0  0.2834 0.5767   True\n",
      "      Abies Alba  Pinus Sylvestris   0.4049 0.0008  0.1092 0.7006   True\n",
      "      Abies Alba   Quercus Petraea   0.6349 0.2237 -0.1464 1.4162  False\n",
      "      Abies Alba     Quercus Robur   0.0982 0.9996 -0.3621 0.5586  False\n",
      "      Abies Alba Sambucus Racemosa   0.5549 0.4102 -0.2264 1.3362  False\n",
      "Castanea Dentata   Castanea Sativa    0.048    1.0 -0.5988 0.6948  False\n",
      "Castanea Dentata  Corylus Avellana     0.36 0.7813 -0.3095 1.0295  False\n",
      "Castanea Dentata   Fagus Sylvatica   0.1567 0.9963 -0.4003 0.7138  False\n",
      "Castanea Dentata       Picea Abies   0.2351  0.938 -0.3195 0.7898  False\n",
      "Castanea Dentata  Pinus Sylvestris     0.21 0.9841 -0.4012 0.8212  False\n",
      "Castanea Dentata   Quercus Petraea     0.44 0.8951 -0.5068 1.3868  False\n",
      "Castanea Dentata     Quercus Robur  -0.0967    1.0 -0.8024 0.6091  False\n",
      "Castanea Dentata Sambucus Racemosa     0.36 0.9686 -0.5868 1.3068  False\n",
      " Castanea Sativa  Corylus Avellana    0.312 0.6505 -0.2066 0.8306  False\n",
      " Castanea Sativa   Fagus Sylvatica   0.1087 0.9939 -0.2532 0.4707  False\n",
      " Castanea Sativa       Picea Abies   0.1871 0.8087 -0.1711 0.5454  False\n",
      " Castanea Sativa  Pinus Sylvestris    0.162 0.9749 -0.2787 0.6027  False\n",
      " Castanea Sativa   Quercus Petraea    0.392 0.8973 -0.4549 1.2389  False\n",
      " Castanea Sativa     Quercus Robur  -0.1447 0.9982 -0.7092 0.4199  False\n",
      " Castanea Sativa Sambucus Racemosa    0.312 0.9745 -0.5349 1.1589  False\n",
      "Corylus Avellana   Fagus Sylvatica  -0.2033 0.8351 -0.6044 0.1979  False\n",
      "Corylus Avellana       Picea Abies  -0.1249 0.9916 -0.5226 0.2729  False\n",
      "Corylus Avellana  Pinus Sylvestris    -0.15  0.991 -0.6234 0.3234  False\n",
      "Corylus Avellana   Quercus Petraea     0.08    1.0 -0.7843 0.9443  False\n",
      "Corylus Avellana     Quercus Robur  -0.4567 0.2877 -1.0471 0.1338  False\n",
      "Corylus Avellana Sambucus Racemosa      0.0    1.0 -0.8643 0.8643  False\n",
      " Fagus Sylvatica       Picea Abies   0.0784 0.7567  -0.064 0.2208  False\n",
      " Fagus Sylvatica  Pinus Sylvestris   0.0533 0.9999 -0.2403 0.3469  False\n",
      " Fagus Sylvatica   Quercus Petraea   0.2833 0.9769 -0.4972 1.0637  False\n",
      " Fagus Sylvatica     Quercus Robur  -0.2534  0.754 -0.7124 0.2056  False\n",
      " Fagus Sylvatica Sambucus Racemosa   0.2033 0.9979 -0.5772 0.9837  False\n",
      "     Picea Abies  Pinus Sylvestris  -0.0251    1.0 -0.3141 0.2638  False\n",
      "     Picea Abies   Quercus Petraea   0.2049 0.9978 -0.5739 0.9836  False\n",
      "     Picea Abies     Quercus Robur  -0.3318 0.3745 -0.7879 0.1243  False\n",
      "     Picea Abies Sambucus Racemosa   0.1249    1.0 -0.6539 0.9036  False\n",
      "Pinus Sylvestris   Quercus Petraea     0.23 0.9964   -0.59   1.05  False\n",
      "Pinus Sylvestris     Quercus Robur  -0.3067 0.6844   -0.83 0.2167  False\n",
      "Pinus Sylvestris Sambucus Racemosa     0.15 0.9999   -0.67   0.97  False\n",
      " Quercus Petraea     Quercus Robur  -0.5367 0.6514 -1.4293  0.356  False\n",
      " Quercus Petraea Sambucus Racemosa    -0.08    1.0 -1.1733 1.0133  False\n",
      "   Quercus Robur Sambucus Racemosa   0.4567 0.8272  -0.436 1.3493  False\n",
      "------------------------------------------------------------------------\n",
      "============================================================\n",
      "Test for: ibp\n",
      "============================================================\n",
      "ANOVA results:\n",
      "                  sum_sq     df         F    PR(>F)\n",
      "C(species)   5132.020770    9.0  5.304224  0.000002\n",
      "Residual    19458.199126  181.0       NaN       NaN\n",
      "\n",
      "Tukey HSD post-hoc test results:\n",
      "           Multiple Comparison of Means - Tukey HSD, FWER=0.05            \n",
      "==========================================================================\n",
      "     group1            group2      meandiff p-adj   lower    upper  reject\n",
      "--------------------------------------------------------------------------\n",
      "      Abies Alba  Castanea Dentata  -1.1277    1.0 -25.1097 22.8544  False\n",
      "      Abies Alba   Castanea Sativa   4.4723 0.9958 -11.1527 20.0974  False\n",
      "      Abies Alba  Corylus Avellana  -6.1277 0.9804 -23.4282 11.1729  False\n",
      "      Abies Alba   Fagus Sylvatica  10.6031    0.0   3.9178 17.2884   True\n",
      "      Abies Alba       Picea Abies   6.3282  0.048   0.0274 12.6291   True\n",
      "      Abies Alba  Pinus Sylvestris  -5.1277 0.9541 -17.8317  7.5763  False\n",
      "      Abies Alba   Quercus Petraea   8.8723 0.9977 -24.6956 42.4403  False\n",
      "      Abies Alba     Quercus Robur  19.2057  0.065  -0.5744 38.9858  False\n",
      "      Abies Alba Sambucus Racemosa  -9.1277 0.9971 -42.6956 24.4403  False\n",
      "Castanea Dentata   Castanea Sativa      5.6 0.9997 -22.1908 33.3908  False\n",
      "Castanea Dentata  Corylus Avellana     -5.0 0.9999 -33.7663 23.7663  False\n",
      "Castanea Dentata   Fagus Sylvatica  11.7308 0.8607 -12.2042 35.6657  False\n",
      "Castanea Dentata       Picea Abies   7.4559 0.9918 -16.3746 31.2863  False\n",
      "Castanea Dentata  Pinus Sylvestris     -4.0    1.0 -30.2599 22.2599  False\n",
      "Castanea Dentata   Quercus Petraea     10.0 0.9987 -30.6816 50.6816  False\n",
      "Castanea Dentata     Quercus Robur  20.3333 0.4963   -9.989 50.6556  False\n",
      "Castanea Dentata Sambucus Racemosa     -8.0 0.9998 -48.6816 32.6816  False\n",
      " Castanea Sativa  Corylus Avellana    -10.6 0.8809 -32.8822 11.6822  False\n",
      " Castanea Sativa   Fagus Sylvatica   6.1308 0.9604  -9.4218 21.6834  False\n",
      " Castanea Sativa       Picea Abies   1.8559    1.0 -13.5354 17.2472  False\n",
      " Castanea Sativa  Pinus Sylvestris     -9.6 0.8347 -28.5363  9.3363  False\n",
      " Castanea Sativa   Quercus Petraea      4.4    1.0 -31.9868 40.7868  False\n",
      " Castanea Sativa     Quercus Robur  14.7333 0.6378  -9.5245 38.9912  False\n",
      " Castanea Sativa Sambucus Racemosa    -13.6  0.972 -49.9868 22.7868  False\n",
      "Corylus Avellana   Fagus Sylvatica  16.7308 0.0651  -0.5044 33.9659  False\n",
      "Corylus Avellana       Picea Abies  12.4559 0.3719  -4.6338 29.5456  False\n",
      "Corylus Avellana  Pinus Sylvestris      1.0    1.0 -19.3408 21.3408  False\n",
      "Corylus Avellana   Quercus Petraea     15.0 0.9539 -22.1371 52.1371  False\n",
      "Corylus Avellana     Quercus Robur  25.3333 0.0507  -0.0361 50.7028  False\n",
      "Corylus Avellana Sambucus Racemosa     -3.0    1.0 -40.1371 34.1371  False\n",
      " Fagus Sylvatica       Picea Abies  -4.2749 0.4349  -10.394  1.8442  False\n",
      " Fagus Sylvatica  Pinus Sylvestris -15.7308 0.0037 -28.3456 -3.1159   True\n",
      " Fagus Sylvatica   Quercus Petraea  -1.7308    1.0 -35.2651 31.8035  False\n",
      " Fagus Sylvatica     Quercus Robur   8.6026 0.9267 -11.1204 28.3255  False\n",
      " Fagus Sylvatica Sambucus Racemosa -19.7308 0.6792 -53.2651 13.8035  False\n",
      "     Picea Abies  Pinus Sylvestris -11.4559 0.0982 -23.8713  0.9595  False\n",
      "     Picea Abies   Quercus Petraea   2.5441    1.0 -30.9156 36.0039  False\n",
      "     Picea Abies     Quercus Robur  12.8775 0.5263  -6.7185 32.4734  False\n",
      "     Picea Abies Sambucus Racemosa -15.4559 0.8985 -48.9156 18.0039  False\n",
      "Pinus Sylvestris   Quercus Petraea     14.0 0.9584 -21.2313 49.2313  False\n",
      "Pinus Sylvestris     Quercus Robur  24.3333 0.0226   1.8457  46.821   True\n",
      "Pinus Sylvestris Sambucus Racemosa     -4.0    1.0 -39.2313 31.2313  False\n",
      " Quercus Petraea     Quercus Robur  10.3333 0.9973 -28.0217 48.6883  False\n",
      " Quercus Petraea Sambucus Racemosa    -18.0  0.967 -64.9751 28.9751  False\n",
      "   Quercus Robur Sambucus Racemosa -28.3333 0.3523 -66.6883 10.0217  False\n",
      "--------------------------------------------------------------------------\n"
     ]
    }
   ],
   "source": [
    "for var in vars_list:\n",
    "    anova_tukey(df, var, \"species\")"
   ]
  },
  {
   "cell_type": "markdown",
   "id": "80260c97",
   "metadata": {},
   "source": [
    "# Preparation for hypothesis test"
   ]
  },
  {
   "cell_type": "markdown",
   "id": "e95b2eac",
   "metadata": {},
   "source": [
    "### Normally distribution or not?"
   ]
  },
  {
   "cell_type": "code",
   "execution_count": 21,
   "id": "469d5492",
   "metadata": {},
   "outputs": [
    {
     "name": "stdout",
     "output_type": "stream",
     "text": [
      "============================================================\n",
      "Shapiro-Wilk Test for: dbh\n",
      "============================================================\n",
      "Statistic: 0.9051963944794085, p-value: 1.0530999529005723e-09\n",
      "The data is not normally distributed.\n",
      "\n",
      "============================================================\n",
      "Shapiro-Wilk Test for: height\n",
      "============================================================\n",
      "Statistic: 0.912770776187247, p-value: 3.3503905780349325e-09\n",
      "The data is not normally distributed.\n",
      "\n",
      "============================================================\n",
      "Shapiro-Wilk Test for: agb\n",
      "============================================================\n",
      "Statistic: 0.20309245749403204, p-value: 7.473010166943037e-28\n",
      "The data is not normally distributed.\n",
      "\n",
      "============================================================\n",
      "Shapiro-Wilk Test for: lai\n",
      "============================================================\n",
      "Statistic: 0.8989573076009973, p-value: 4.2392043574785176e-10\n",
      "The data is not normally distributed.\n",
      "\n",
      "============================================================\n",
      "Shapiro-Wilk Test for: shannon\n",
      "============================================================\n",
      "Statistic: 0.9532946037218886, p-value: 6.376142804554832e-06\n",
      "The data is not normally distributed.\n",
      "\n",
      "============================================================\n",
      "Shapiro-Wilk Test for: soil_pH\n",
      "============================================================\n",
      "Statistic: 0.9257774942514975, p-value: 2.8558434860910582e-08\n",
      "The data is not normally distributed.\n",
      "\n",
      "============================================================\n",
      "Shapiro-Wilk Test for: ibp\n",
      "============================================================\n",
      "Statistic: 0.8869880204624716, p-value: 8.149994973769036e-11\n",
      "The data is not normally distributed.\n",
      "\n"
     ]
    }
   ],
   "source": [
    "# shapiro test for normality\n",
    "for var in vars_list:\n",
    "    stat, p = shapiro(df[var])\n",
    "    print(\"=\" * 60)\n",
    "    print(f\"Shapiro-Wilk Test for: {var}\")\n",
    "    print(\"=\" * 60)\n",
    "    print(f\"Statistic: {stat}, p-value: {p}\")\n",
    "    if p > 0.05:\n",
    "        print(\"The data is normally distributed.\\n\")\n",
    "    else:\n",
    "        print(\"The data is not normally distributed.\\n\")"
   ]
  },
  {
   "cell_type": "markdown",
   "id": "60aeaf8e",
   "metadata": {},
   "source": [
    "Note: Since the raw data did not meet normality assumptions (Shapiro–Wilk test, p < 0.05), log-transformed values were used for further analyses."
   ]
  },
  {
   "cell_type": "markdown",
   "id": "1aeda715",
   "metadata": {},
   "source": [
    "### log transform"
   ]
  },
  {
   "cell_type": "code",
   "execution_count": 22,
   "id": "7270848b",
   "metadata": {},
   "outputs": [],
   "source": [
    "df_log = df.copy()\n",
    "df_log[vars_list] = df_log[vars_list].apply(lambda x: np.log(x+1))"
   ]
  },
  {
   "cell_type": "code",
   "execution_count": 23,
   "id": "4c8314fb",
   "metadata": {},
   "outputs": [
    {
     "data": {
      "application/vnd.microsoft.datawrangler.viewer.v0+json": {
       "columns": [
        {
         "name": "index",
         "rawType": "int64",
         "type": "integer"
        },
        {
         "name": "tree_id",
         "rawType": "int64",
         "type": "integer"
        },
        {
         "name": "species",
         "rawType": "object",
         "type": "string"
        },
        {
         "name": "plot_type",
         "rawType": "object",
         "type": "string"
        },
        {
         "name": "dbh",
         "rawType": "float64",
         "type": "float"
        },
        {
         "name": "height",
         "rawType": "float64",
         "type": "float"
        },
        {
         "name": "agb",
         "rawType": "float64",
         "type": "float"
        },
        {
         "name": "lai",
         "rawType": "float64",
         "type": "float"
        },
        {
         "name": "shannon",
         "rawType": "float64",
         "type": "float"
        },
        {
         "name": "soil_pH",
         "rawType": "float64",
         "type": "float"
        },
        {
         "name": "ibp",
         "rawType": "float64",
         "type": "float"
        },
        {
         "name": "group",
         "rawType": "int64",
         "type": "integer"
        }
       ],
       "ref": "a5f7e7f9-8851-4d97-82cb-ccf3ce9457f7",
       "rows": [
        [
         "0",
         "1",
         "Picea Abies",
         "Mixed",
         "1.5043904029006785",
         "1.5040773967762742",
         "0.9480853546842273",
         "2.0028304393079956",
         "0.7752154676648624",
         "1.7732559976634952",
         "3.258096538021482",
         "1"
        ],
        [
         "1",
         "2",
         "Picea Abies",
         "Mixed",
         "2.572289710644793",
         "2.424802725718295",
         "3.5810965825956815",
         "2.0028304393079956",
         "0.7752154676648624",
         "1.7732559976634952",
         "3.258096538021482",
         "1"
        ],
        [
         "2",
         "3",
         "Fagus Sylvatica",
         "Mixed",
         "0.9522559327157433",
         "1.589235205116581",
         "0.2848016183969236",
         "2.0028304393079956",
         "0.7752154676648624",
         "1.7732559976634952",
         "3.258096538021482",
         "1"
        ],
        [
         "3",
         "4",
         "Fagus Sylvatica",
         "Mixed",
         "2.0797936666819745",
         "2.388762789235098",
         "2.7055051445946035",
         "2.0028304393079956",
         "0.7752154676648624",
         "1.7732559976634952",
         "3.258096538021482",
         "1"
        ],
        [
         "4",
         "5",
         "Abies Alba",
         "Mixed",
         "3.0914265835767734",
         "2.7212954278522306",
         "4.8116261997769465",
         "2.0028304393079956",
         "0.7752154676648624",
         "1.7732559976634952",
         "3.258096538021482",
         "1"
        ],
        [
         "5",
         "6",
         "Abies Alba",
         "Mixed",
         "3.187864782322352",
         "2.2407096892759584",
         "4.57525567885229",
         "2.0028304393079956",
         "0.7752154676648624",
         "1.7732559976634952",
         "3.258096538021482",
         "1"
        ],
        [
         "6",
         "7",
         "Picea Abies",
         "Mixed",
         "1.9527279744170127",
         "1.6094379124341003",
         "1.741249035858796",
         "2.0028304393079956",
         "0.7752154676648624",
         "1.7732559976634952",
         "3.258096538021482",
         "1"
        ],
        [
         "7",
         "8",
         "Fagus Sylvatica",
         "Mixed",
         "2.496575471542003",
         "2.4765384001174837",
         "3.7080377100627557",
         "2.0028304393079956",
         "0.7752154676648624",
         "1.7732559976634952",
         "3.258096538021482",
         "1"
        ],
        [
         "8",
         "9",
         "Picea Abies",
         "Mixed",
         "2.665074167451687",
         "2.341805806147327",
         "3.99212646765085",
         "2.0028304393079956",
         "0.7752154676648624",
         "1.7732559976634952",
         "3.258096538021482",
         "1"
        ],
        [
         "9",
         "10",
         "Fagus Sylvatica",
         "Mixed",
         "2.572289710644793",
         "2.5416019934645457",
         "3.9235567521222356",
         "2.0028304393079956",
         "0.7752154676648624",
         "1.7732559976634952",
         "3.258096538021482",
         "1"
        ],
        [
         "10",
         "11",
         "Fagus Sylvatica",
         "Mixed",
         "2.192518761733125",
         "2.2407096892759584",
         "2.8595418786597633",
         "2.0028304393079956",
         "0.7752154676648624",
         "1.7732559976634952",
         "3.258096538021482",
         "1"
        ],
        [
         "11",
         "12",
         "Quercus Robur",
         "Mixed",
         "4.198281613543026",
         "3.126760535960395",
         "7.891885434269604",
         "2.0028304393079956",
         "0.7752154676648624",
         "1.7732559976634952",
         "3.258096538021482",
         "1"
        ],
        [
         "12",
         "13",
         "Picea Abies",
         "Mixed",
         "2.6197576726867497",
         "2.4159137783010487",
         "3.663360187599973",
         "2.0028304393079956",
         "0.7752154676648624",
         "1.7732559976634952",
         "3.258096538021482",
         "1"
        ],
        [
         "13",
         "14",
         "Picea Abies",
         "Mixed",
         "2.118797748324996",
         "2.2407096892759584",
         "2.565922789884058",
         "2.0028304393079956",
         "0.7752154676648624",
         "1.7732559976634952",
         "3.258096538021482",
         "1"
        ],
        [
         "14",
         "15",
         "Picea Abies",
         "Mixed",
         "1.4310523263758312",
         "1.0986122886681098",
         "0.6157261566746953",
         "2.0028304393079956",
         "0.7752154676648624",
         "1.7732559976634952",
         "3.258096538021482",
         "1"
        ],
        [
         "15",
         "16",
         "Picea Abies",
         "Mono",
         "3.7762840292804207",
         "3.1135153092103742",
         "6.411683800411558",
         "1.706564623164823",
         "0.0",
         "1.8976198599275322",
         "2.5649493574615367",
         "1"
        ],
        [
         "16",
         "17",
         "Picea Abies",
         "Mono",
         "3.3228044116247886",
         "3.054001181677967",
         "5.523502358153205",
         "1.706564623164823",
         "0.0",
         "1.8976198599275322",
         "2.5649493574615367",
         "1"
        ],
        [
         "17",
         "18",
         "Picea Abies",
         "Mono",
         "4.065529698164491",
         "3.1986731175506815",
         "7.013309105117408",
         "1.706564623164823",
         "0.0",
         "1.8976198599275322",
         "2.5649493574615367",
         "1"
        ],
        [
         "18",
         "19",
         "Picea Abies",
         "Mono",
         "3.7391441334539586",
         "3.3214324131932926",
         "6.516359524248106",
         "1.706564623164823",
         "0.0",
         "1.8976198599275322",
         "2.5649493574615367",
         "1"
        ],
        [
         "19",
         "20",
         "Picea Abies",
         "Mono",
         "3.7541660178215577",
         "3.292126286607793",
         "6.5197109448802",
         "1.706564623164823",
         "0.0",
         "1.8976198599275322",
         "2.5649493574615367",
         "1"
        ],
        [
         "20",
         "21",
         "Fagus Sylvatica",
         "Mixed",
         "3.5387115256970407",
         "2.766319109226186",
         "3.9046221620874166",
         "2.018895041811802",
         "0.5888971591861462",
         "1.7884205679625405",
         "3.4011973816621555",
         "2"
        ],
        [
         "21",
         "22",
         "Fagus Sylvatica",
         "Mixed",
         "2.7499758912513856",
         "2.4765384001174837",
         "2.0363418446276302",
         "2.018895041811802",
         "0.5888971591861462",
         "1.7884205679625405",
         "3.4011973816621555",
         "2"
        ],
        [
         "22",
         "23",
         "Fagus Sylvatica",
         "Mixed",
         "3.251465800200522",
         "2.624668592163159",
         "3.183493268324268",
         "2.018895041811802",
         "0.5888971591861462",
         "1.7884205679625405",
         "3.4011973816621555",
         "2"
        ],
        [
         "23",
         "24",
         "Picea Abies",
         "Mixed",
         "3.7084059592961744",
         "2.8678989020441064",
         "5.585699907528334",
         "2.018895041811802",
         "0.5888971591861462",
         "1.7884205679625405",
         "3.4011973816621555",
         "2"
        ],
        [
         "24",
         "25",
         "Picea Abies",
         "Mixed",
         "3.9741114275380682",
         "2.7536607123542622",
         "5.526081569792128",
         "2.018895041811802",
         "0.5888971591861462",
         "1.7884205679625405",
         "3.4011973816621555",
         "2"
        ],
        [
         "25",
         "26",
         "Fagus Sylvatica",
         "Mixed",
         "3.5200440966534283",
         "2.653241964607215",
         "5.150344507795399",
         "2.018895041811802",
         "0.5888971591861462",
         "1.7884205679625405",
         "3.4011973816621555",
         "2"
        ],
        [
         "26",
         "27",
         "Fagus Sylvatica",
         "Mixed",
         "2.9684624795639984",
         "2.7013612129514133",
         "2.6364176701052364",
         "2.018895041811802",
         "0.5888971591861462",
         "1.7884205679625405",
         "3.4011973816621555",
         "2"
        ],
        [
         "27",
         "28",
         "Fagus Sylvatica",
         "Mixed",
         "2.8092330679046307",
         "2.766319109226186",
         "2.348492927195021",
         "2.018895041811802",
         "0.5888971591861462",
         "1.7884205679625405",
         "3.4011973816621555",
         "2"
        ],
        [
         "28",
         "29",
         "Abies Alba",
         "Mixed",
         "3.529421369656171",
         "2.8903717578961645",
         "4.533047036297689",
         "2.018895041811802",
         "0.5888971591861462",
         "1.7884205679625405",
         "3.4011973816621555",
         "2"
        ],
        [
         "29",
         "30",
         "Fagus Sylvatica",
         "Mixed",
         "3.0620738268031755",
         "2.8735646395797834",
         "2.953782100897698",
         "2.018895041811802",
         "0.5888971591861462",
         "1.7884205679625405",
         "3.4011973816621555",
         "2"
        ],
        [
         "30",
         "31",
         "Abies Alba",
         "Mono",
         "3.0163631390020855",
         "3.299533727885655",
         "4.444356123602325",
         "1.6620303625532709",
         "0.0",
         "1.6331544390514163",
         "2.70805020110221",
         "2"
        ],
        [
         "31",
         "32",
         "Abies Alba",
         "Mono",
         "3.287771120747924",
         "3.58351893845611",
         "5.239318257719462",
         "1.6620303625532709",
         "0.0",
         "1.6331544390514163",
         "2.70805020110221",
         "2"
        ],
        [
         "32",
         "33",
         "Abies Alba",
         "Mono",
         "3.4416813730645157",
         "3.2268439945173775",
         "4.919814974733188",
         "1.6620303625532709",
         "0.0",
         "1.6331544390514163",
         "2.70805020110221",
         "2"
        ],
        [
         "33",
         "34",
         "Abies Alba",
         "Mono",
         "3.529421369656171",
         "3.3843902633457743",
         "5.274509420993584",
         "1.6620303625532709",
         "0.0",
         "1.6331544390514163",
         "2.70805020110221",
         "2"
        ],
        [
         "34",
         "35",
         "Abies Alba",
         "Mono",
         "3.7466832824987923",
         "3.4307561839036995",
         "5.639083552406448",
         "1.6620303625532709",
         "0.0",
         "1.6331544390514163",
         "2.70805020110221",
         "2"
        ],
        [
         "35",
         "36",
         "Abies Alba",
         "Mono",
         "3.275815204077272",
         "3.1441522786722644",
         "4.569593462295181",
         "1.6620303625532709",
         "0.0",
         "1.6331544390514163",
         "2.70805020110221",
         "2"
        ],
        [
         "36",
         "37",
         "Abies Alba",
         "Mono",
         "3.299585780666341",
         "3.250374491927572",
         "4.760763259848794",
         "1.6620303625532709",
         "0.0",
         "1.6331544390514163",
         "2.70805020110221",
         "2"
        ],
        [
         "37",
         "38",
         "Fagus Sylvatica",
         "Mixed",
         "2.5963053161548797",
         "2.70805020110221",
         "4.083748695215318",
         "2.061786606441115",
         "0.7202758479481978",
         "1.8082887711792655",
         "3.713572066704308",
         "3"
        ],
        [
         "38",
         "39",
         "Fagus Sylvatica",
         "Mixed",
         "2.5476831342002666",
         "2.6390573296152584",
         "3.9225553936486017",
         "2.061786606441115",
         "0.7202758479481978",
         "1.8082887711792655",
         "3.713572066704308",
         "3"
        ],
        [
         "39",
         "40",
         "Fagus Sylvatica",
         "Mixed",
         "2.3254210268597864",
         "2.5649493574615367",
         "3.359646689697146",
         "2.061786606441115",
         "0.7202758479481978",
         "1.8082887711792655",
         "3.713572066704308",
         "3"
        ],
        [
         "40",
         "41",
         "Fagus Sylvatica",
         "Mixed",
         "3.2637146119917664",
         "2.8903717578961645",
         "5.719528319515742",
         "2.061786606441115",
         "0.7202758479481978",
         "1.8082887711792655",
         "3.713572066704308",
         "3"
        ],
        [
         "41",
         "42",
         "Fagus Sylvatica",
         "Mixed",
         "2.883147054001311",
         "2.833213344056216",
         "4.825521057689481",
         "2.061786606441115",
         "0.7202758479481978",
         "1.8082887711792655",
         "3.713572066704308",
         "3"
        ],
        [
         "42",
         "43",
         "Fagus Sylvatica",
         "Mixed",
         "2.293814424193674",
         "2.3978952727983707",
         "3.1661176149625843",
         "2.061786606441115",
         "0.7202758479481978",
         "1.8082887711792655",
         "3.713572066704308",
         "3"
        ],
        [
         "43",
         "44",
         "Fagus Sylvatica",
         "Mixed",
         "2.44271446734173",
         "2.1972245773362196",
         "3.357115470570463",
         "2.061786606441115",
         "0.7202758479481978",
         "1.8082887711792655",
         "3.713572066704308",
         "3"
        ],
        [
         "44",
         "45",
         "Fagus Sylvatica",
         "Mixed",
         "2.470007551589493",
         "2.4849066497880004",
         "3.632477804263234",
         "2.061786606441115",
         "0.7202758479481978",
         "1.8082887711792655",
         "3.713572066704308",
         "3"
        ],
        [
         "45",
         "46",
         "Fagus Sylvatica",
         "Mixed",
         "3.1612467933472024",
         "2.995732273553991",
         "5.567671276826881",
         "2.061786606441115",
         "0.7202758479481978",
         "1.8082887711792655",
         "3.713572066704308",
         "3"
        ],
        [
         "46",
         "47",
         "Castanea Sativa",
         "Mixed",
         "2.7499758912513856",
         "2.4849066497880004",
         "4.344687599010148",
         "2.061786606441115",
         "0.7202758479481978",
         "1.8082887711792655",
         "3.713572066704308",
         "3"
        ],
        [
         "47",
         "48",
         "Castanea Sativa",
         "Mixed",
         "3.7084059592961744",
         "2.9444389791664403",
         "6.724944372828407",
         "2.061786606441115",
         "0.7202758479481978",
         "1.8082887711792655",
         "3.713572066704308",
         "3"
        ],
        [
         "48",
         "49",
         "Picea Abies",
         "Mixed",
         "1.3519070817529866",
         "1.2809338454620642",
         "0.6039633221169534",
         "2.061786606441115",
         "0.7202758479481978",
         "1.8082887711792655",
         "3.713572066704308",
         "3"
        ],
        [
         "49",
         "50",
         "Abies Alba",
         "Mixed",
         "1.5727155517124787",
         "1.410986973710262",
         "0.9431735747339046",
         "2.061786606441115",
         "0.7202758479481978",
         "1.8082887711792655",
         "3.713572066704308",
         "3"
        ]
       ],
       "shape": {
        "columns": 11,
        "rows": 191
       }
      },
      "text/html": [
       "<div>\n",
       "<style scoped>\n",
       "    .dataframe tbody tr th:only-of-type {\n",
       "        vertical-align: middle;\n",
       "    }\n",
       "\n",
       "    .dataframe tbody tr th {\n",
       "        vertical-align: top;\n",
       "    }\n",
       "\n",
       "    .dataframe thead th {\n",
       "        text-align: right;\n",
       "    }\n",
       "</style>\n",
       "<table border=\"1\" class=\"dataframe\">\n",
       "  <thead>\n",
       "    <tr style=\"text-align: right;\">\n",
       "      <th></th>\n",
       "      <th>tree_id</th>\n",
       "      <th>species</th>\n",
       "      <th>plot_type</th>\n",
       "      <th>dbh</th>\n",
       "      <th>height</th>\n",
       "      <th>agb</th>\n",
       "      <th>lai</th>\n",
       "      <th>shannon</th>\n",
       "      <th>soil_pH</th>\n",
       "      <th>ibp</th>\n",
       "      <th>group</th>\n",
       "    </tr>\n",
       "  </thead>\n",
       "  <tbody>\n",
       "    <tr>\n",
       "      <th>0</th>\n",
       "      <td>1</td>\n",
       "      <td>Picea Abies</td>\n",
       "      <td>Mixed</td>\n",
       "      <td>1.504390</td>\n",
       "      <td>1.504077</td>\n",
       "      <td>0.948085</td>\n",
       "      <td>2.002830</td>\n",
       "      <td>0.775215</td>\n",
       "      <td>1.773256</td>\n",
       "      <td>3.258097</td>\n",
       "      <td>1</td>\n",
       "    </tr>\n",
       "    <tr>\n",
       "      <th>1</th>\n",
       "      <td>2</td>\n",
       "      <td>Picea Abies</td>\n",
       "      <td>Mixed</td>\n",
       "      <td>2.572290</td>\n",
       "      <td>2.424803</td>\n",
       "      <td>3.581097</td>\n",
       "      <td>2.002830</td>\n",
       "      <td>0.775215</td>\n",
       "      <td>1.773256</td>\n",
       "      <td>3.258097</td>\n",
       "      <td>1</td>\n",
       "    </tr>\n",
       "    <tr>\n",
       "      <th>2</th>\n",
       "      <td>3</td>\n",
       "      <td>Fagus Sylvatica</td>\n",
       "      <td>Mixed</td>\n",
       "      <td>0.952256</td>\n",
       "      <td>1.589235</td>\n",
       "      <td>0.284802</td>\n",
       "      <td>2.002830</td>\n",
       "      <td>0.775215</td>\n",
       "      <td>1.773256</td>\n",
       "      <td>3.258097</td>\n",
       "      <td>1</td>\n",
       "    </tr>\n",
       "    <tr>\n",
       "      <th>3</th>\n",
       "      <td>4</td>\n",
       "      <td>Fagus Sylvatica</td>\n",
       "      <td>Mixed</td>\n",
       "      <td>2.079794</td>\n",
       "      <td>2.388763</td>\n",
       "      <td>2.705505</td>\n",
       "      <td>2.002830</td>\n",
       "      <td>0.775215</td>\n",
       "      <td>1.773256</td>\n",
       "      <td>3.258097</td>\n",
       "      <td>1</td>\n",
       "    </tr>\n",
       "    <tr>\n",
       "      <th>4</th>\n",
       "      <td>5</td>\n",
       "      <td>Abies Alba</td>\n",
       "      <td>Mixed</td>\n",
       "      <td>3.091427</td>\n",
       "      <td>2.721295</td>\n",
       "      <td>4.811626</td>\n",
       "      <td>2.002830</td>\n",
       "      <td>0.775215</td>\n",
       "      <td>1.773256</td>\n",
       "      <td>3.258097</td>\n",
       "      <td>1</td>\n",
       "    </tr>\n",
       "    <tr>\n",
       "      <th>...</th>\n",
       "      <td>...</td>\n",
       "      <td>...</td>\n",
       "      <td>...</td>\n",
       "      <td>...</td>\n",
       "      <td>...</td>\n",
       "      <td>...</td>\n",
       "      <td>...</td>\n",
       "      <td>...</td>\n",
       "      <td>...</td>\n",
       "      <td>...</td>\n",
       "      <td>...</td>\n",
       "    </tr>\n",
       "    <tr>\n",
       "      <th>186</th>\n",
       "      <td>205</td>\n",
       "      <td>Picea Abies</td>\n",
       "      <td>Mixed</td>\n",
       "      <td>0.992461</td>\n",
       "      <td>1.075002</td>\n",
       "      <td>0.818215</td>\n",
       "      <td>1.909543</td>\n",
       "      <td>0.722706</td>\n",
       "      <td>1.798404</td>\n",
       "      <td>3.713572</td>\n",
       "      <td>10</td>\n",
       "    </tr>\n",
       "    <tr>\n",
       "      <th>187</th>\n",
       "      <td>206</td>\n",
       "      <td>Fagus Sylvatica</td>\n",
       "      <td>Mixed</td>\n",
       "      <td>3.962388</td>\n",
       "      <td>3.278653</td>\n",
       "      <td>10.003262</td>\n",
       "      <td>1.909543</td>\n",
       "      <td>0.722706</td>\n",
       "      <td>1.798404</td>\n",
       "      <td>3.713572</td>\n",
       "      <td>10</td>\n",
       "    </tr>\n",
       "    <tr>\n",
       "      <th>188</th>\n",
       "      <td>207</td>\n",
       "      <td>Picea Abies</td>\n",
       "      <td>Mixed</td>\n",
       "      <td>1.833429</td>\n",
       "      <td>1.673351</td>\n",
       "      <td>2.960662</td>\n",
       "      <td>1.909543</td>\n",
       "      <td>0.722706</td>\n",
       "      <td>1.798404</td>\n",
       "      <td>3.713572</td>\n",
       "      <td>10</td>\n",
       "    </tr>\n",
       "    <tr>\n",
       "      <th>189</th>\n",
       "      <td>208</td>\n",
       "      <td>Abies Alba</td>\n",
       "      <td>Mixed</td>\n",
       "      <td>2.749447</td>\n",
       "      <td>2.626117</td>\n",
       "      <td>5.842109</td>\n",
       "      <td>1.909543</td>\n",
       "      <td>0.722706</td>\n",
       "      <td>1.798404</td>\n",
       "      <td>3.713572</td>\n",
       "      <td>10</td>\n",
       "    </tr>\n",
       "    <tr>\n",
       "      <th>190</th>\n",
       "      <td>209</td>\n",
       "      <td>Fagus Sylvatica</td>\n",
       "      <td>Mixed</td>\n",
       "      <td>2.616926</td>\n",
       "      <td>2.580974</td>\n",
       "      <td>6.484854</td>\n",
       "      <td>1.909543</td>\n",
       "      <td>0.722706</td>\n",
       "      <td>1.798404</td>\n",
       "      <td>3.713572</td>\n",
       "      <td>10</td>\n",
       "    </tr>\n",
       "  </tbody>\n",
       "</table>\n",
       "<p>191 rows × 11 columns</p>\n",
       "</div>"
      ],
      "text/plain": [
       "     tree_id          species plot_type       dbh    height        agb  \\\n",
       "0          1      Picea Abies     Mixed  1.504390  1.504077   0.948085   \n",
       "1          2      Picea Abies     Mixed  2.572290  2.424803   3.581097   \n",
       "2          3  Fagus Sylvatica     Mixed  0.952256  1.589235   0.284802   \n",
       "3          4  Fagus Sylvatica     Mixed  2.079794  2.388763   2.705505   \n",
       "4          5       Abies Alba     Mixed  3.091427  2.721295   4.811626   \n",
       "..       ...              ...       ...       ...       ...        ...   \n",
       "186      205      Picea Abies     Mixed  0.992461  1.075002   0.818215   \n",
       "187      206  Fagus Sylvatica     Mixed  3.962388  3.278653  10.003262   \n",
       "188      207      Picea Abies     Mixed  1.833429  1.673351   2.960662   \n",
       "189      208       Abies Alba     Mixed  2.749447  2.626117   5.842109   \n",
       "190      209  Fagus Sylvatica     Mixed  2.616926  2.580974   6.484854   \n",
       "\n",
       "          lai   shannon   soil_pH       ibp  group  \n",
       "0    2.002830  0.775215  1.773256  3.258097      1  \n",
       "1    2.002830  0.775215  1.773256  3.258097      1  \n",
       "2    2.002830  0.775215  1.773256  3.258097      1  \n",
       "3    2.002830  0.775215  1.773256  3.258097      1  \n",
       "4    2.002830  0.775215  1.773256  3.258097      1  \n",
       "..        ...       ...       ...       ...    ...  \n",
       "186  1.909543  0.722706  1.798404  3.713572     10  \n",
       "187  1.909543  0.722706  1.798404  3.713572     10  \n",
       "188  1.909543  0.722706  1.798404  3.713572     10  \n",
       "189  1.909543  0.722706  1.798404  3.713572     10  \n",
       "190  1.909543  0.722706  1.798404  3.713572     10  \n",
       "\n",
       "[191 rows x 11 columns]"
      ]
     },
     "execution_count": 23,
     "metadata": {},
     "output_type": "execute_result"
    }
   ],
   "source": [
    "df_log"
   ]
  },
  {
   "cell_type": "code",
   "execution_count": 28,
   "id": "f552aef7",
   "metadata": {},
   "outputs": [],
   "source": [
    "df_mixed = df_log[df_log[\"plot_type\"] == \"Mixed\"].reset_index(drop=True)\n",
    "df_mono = df_log[df_log[\"plot_type\"] == \"Mono\"].reset_index(drop=True)"
   ]
  },
  {
   "cell_type": "markdown",
   "id": "aa49f935",
   "metadata": {},
   "source": [
    "# Hypothesis 1"
   ]
  },
  {
   "cell_type": "code",
   "execution_count": null,
   "id": "d43a5d6b",
   "metadata": {},
   "outputs": [],
   "source": []
  },
  {
   "cell_type": "markdown",
   "id": "b3830391",
   "metadata": {},
   "source": [
    "# Hypothesis 2"
   ]
  },
  {
   "cell_type": "code",
   "execution_count": 30,
   "id": "0c75fff2",
   "metadata": {},
   "outputs": [
    {
     "name": "stdout",
     "output_type": "stream",
     "text": [
      "\n",
      "dbh normally distribution test:\n",
      "Monoculture: 5.008203915068016e-11\n",
      "Mixed: 0.010047266296953171\n",
      "\n",
      "height normally distribution test:\n",
      "Monoculture: 1.1084814076973558e-10\n",
      "Mixed: 0.0007658707260631962\n",
      "\n",
      "agb normally distribution test:\n",
      "Monoculture: 2.246856879623122e-09\n",
      "Mixed: 0.00025687325685184623\n"
     ]
    }
   ],
   "source": [
    "# shapiro test for normality after log transformation\n",
    "for var in [\"dbh\", \"height\", \"agb\"]:\n",
    "    print(f\"\\n{var} normally distribution test:\")\n",
    "    print(\"Monoculture:\", shapiro(df_mono[var]).pvalue)\n",
    "    print(\"Mixed:\", shapiro(df_mixed[var]).pvalue)"
   ]
  },
  {
   "cell_type": "markdown",
   "id": "a0a1f85e",
   "metadata": {},
   "source": [
    "Note: the log-transformed data still violated normality assumptions (Shapiro–Wilk test, p < 0.05)"
   ]
  },
  {
   "cell_type": "code",
   "execution_count": 29,
   "id": "448a92e5",
   "metadata": {},
   "outputs": [
    {
     "name": "stdout",
     "output_type": "stream",
     "text": [
      "dbh Levene test p = 0.7153\n",
      "height Levene test p = 0.7491\n",
      "agb Levene test p = 0.5761\n"
     ]
    }
   ],
   "source": [
    "# levene test for homogeneity of variances\n",
    "for var in [\"dbh\", \"height\", \"agb\"]:\n",
    "    stat, p = levene(df_mono[var], df_mixed[var])\n",
    "    print(f\"{var} Levene test p = {p:.4f}\")"
   ]
  },
  {
   "cell_type": "markdown",
   "id": "47cff887",
   "metadata": {},
   "source": [
    "Note: Levene’s test indicated homogeneity of variances (p > 0.05)"
   ]
  },
  {
   "cell_type": "code",
   "execution_count": 33,
   "id": "eae8a527",
   "metadata": {},
   "outputs": [
    {
     "name": "stdout",
     "output_type": "stream",
     "text": [
      "dbh: U = 5727.500, p = 0.0007\n",
      "height: U = 6358.000, p = 0.0000\n",
      "agb: U = 5999.000, p = 0.0000\n"
     ]
    }
   ],
   "source": [
    "# non-parametric Mann–Whitney U tests\n",
    "for var in [\"dbh\", \"height\", \"agb\"]:\n",
    "    stat, p = mannwhitneyu(df_mono[var], df_mixed[var], alternative='greater')\n",
    "    print(f\"{var}: U = {stat:.3f}, p = {p:.4f}\")"
   ]
  },
  {
   "cell_type": "markdown",
   "id": "82d65cc4",
   "metadata": {},
   "source": [
    "Note: Since the log-transformed data still violated normality assumptions (Shapiro–Wilk test, p < 0.05), non-parametric Mann–Whitney U tests were conducted to compare monoculture and mixed plantations.\n",
    "Results showed that DBH, Height and AGB were significantly higher in monoculture plots (p < 0.05), supporting the hypothesis that monoculture plantations exhibit higher wood productivity."
   ]
  },
  {
   "cell_type": "code",
   "execution_count": 35,
   "id": "ffd6ced2",
   "metadata": {},
   "outputs": [],
   "source": [
    "def mannwhitney_effect_size(x, y):\n",
    "    n1, n2 = len(x), len(y)\n",
    "    stat, p = mannwhitneyu(x, y, alternative='greater')\n",
    "    mean_U = n1 * n2 / 2\n",
    "    sd_U = np.sqrt(n1 * n2 * (n1 + n2 + 1) / 12)\n",
    "    z = (stat - mean_U) / sd_U\n",
    "    r = z / np.sqrt(n1 + n2)\n",
    "    return stat, p, r"
   ]
  },
  {
   "cell_type": "code",
   "execution_count": 36,
   "id": "ecc3ad18",
   "metadata": {},
   "outputs": [
    {
     "name": "stdout",
     "output_type": "stream",
     "text": [
      "dbh: U=5727.50, p=0.0007, r=0.231\n",
      "height: U=6358.00, p=0.0000, r=0.351\n",
      "agb: U=5999.00, p=0.0000, r=0.282\n"
     ]
    }
   ],
   "source": [
    "for var in [\"dbh\", \"height\", \"agb\"]:\n",
    "    stat, p, r = mannwhitney_effect_size(df_mono[var], df_mixed[var])\n",
    "    print(f\"{var}: U={stat:.2f}, p={p:.4f}, r={r:.3f}\")"
   ]
  },
  {
   "cell_type": "markdown",
   "id": "3df26b18",
   "metadata": {},
   "source": [
    "Note: The effect sizes (r = 0.23–0.35) indicate small to medium effects, suggesting a consistent, though not large, productivity advantage in monocultures."
   ]
  }
 ],
 "metadata": {
  "kernelspec": {
   "display_name": "base",
   "language": "python",
   "name": "python3"
  },
  "language_info": {
   "codemirror_mode": {
    "name": "ipython",
    "version": 3
   },
   "file_extension": ".py",
   "mimetype": "text/x-python",
   "name": "python",
   "nbconvert_exporter": "python",
   "pygments_lexer": "ipython3",
   "version": "3.13.5"
  }
 },
 "nbformat": 4,
 "nbformat_minor": 5
}
